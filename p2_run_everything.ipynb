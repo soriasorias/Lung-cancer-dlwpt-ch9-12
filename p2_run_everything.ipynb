{
 "cells": [
  {
   "cell_type": "code",
   "execution_count": 1,
   "metadata": {},
   "outputs": [],
   "source": [
    "import datetime\n",
    "\n",
    "from util.util import importstr\n",
    "from util.logconf import logging\n",
    "log = logging.getLogger('nb')"
   ]
  },
  {
   "cell_type": "code",
   "execution_count": 2,
   "metadata": {},
   "outputs": [],
   "source": [
    "def run(app, *argv):\n",
    "    argv = list(argv)\n",
    "    argv.insert(0, '--num-workers=4')  # <1>\n",
    "    log.info(\"Running: {}({!r}).main()\".format(app, argv))\n",
    "    \n",
    "    app_cls = importstr(*app.rsplit('.', 1))  # <2>\n",
    "    app_cls(argv).main()\n",
    "    \n",
    "    log.info(\"Finished: {}.{!r}).main()\".format(app, argv))"
   ]
  },
  {
   "cell_type": "code",
   "execution_count": 3,
   "metadata": {},
   "outputs": [],
   "source": [
    "import os\n",
    "import shutil\n",
    "\n",
    "# clean up any old data that might be around.\n",
    "# We don't call this by default because it's destructive, \n",
    "# and would waste a lot of time if it ran when nothing \n",
    "# on the application side had changed.\n",
    "def cleanCache():\n",
    "    shutil.rmtree('data-unversioned/cache')\n",
    "    os.mkdir('data-unversioned/cache')\n",
    "\n",
    "# cleanCache()"
   ]
  },
  {
   "cell_type": "code",
   "execution_count": 4,
   "metadata": {},
   "outputs": [],
   "source": [
    "training_epochs = 20\n",
    "experiment_epochs = 10\n",
    "final_epochs = 50\n",
    "\n",
    "training_epochs = 2\n",
    "experiment_epochs = 2\n",
    "final_epochs = 5\n",
    "seg_epochs = 10"
   ]
  },
  {
   "cell_type": "markdown",
   "metadata": {},
   "source": [
    "## Chapter 11"
   ]
  },
  {
   "cell_type": "code",
   "execution_count": 5,
   "metadata": {},
   "outputs": [
    {
     "name": "stderr",
     "output_type": "stream",
     "text": [
      "2024-10-18 17:17:57,450 INFO     pid:21660 nb:004:run Running: p2ch11.prepcache.LunaPrepCacheApp(['--num-workers=4']).main()\n",
      "2024-10-18 17:17:59,285 INFO     pid:21660 p2ch11.prepcache:043:main Starting LunaPrepCacheApp, Namespace(batch_size=1024, num_workers=4)\n",
      "2024-10-18 17:18:01,120 INFO     pid:21660 p2ch11.dsets:182:__init__ <p2ch11.dsets.LunaDataset object at 0x000001B73BA6A7D0>: 384840 training samples\n",
      "2024-10-18 17:18:01,121 WARNING  pid:21660 util.util:219:enumerateWithEstimate Stuffing cache ----/376, starting\n",
      "2024-10-18 17:18:25,938 INFO     pid:21660 util.util:236:enumerateWithEstimate Stuffing cache   16/376, done at 2024-10-18 17:23:32, 0:05:17\n",
      "2024-10-18 17:19:05,226 INFO     pid:21660 util.util:236:enumerateWithEstimate Stuffing cache   64/376, done at 2024-10-18 17:23:22, 0:05:07\n",
      "2024-10-18 17:22:10,065 INFO     pid:21660 util.util:236:enumerateWithEstimate Stuffing cache  256/376, done at 2024-10-18 17:24:00, 0:05:45\n",
      "2024-10-18 17:24:03,694 WARNING  pid:21660 util.util:249:enumerateWithEstimate Stuffing cache ----/376, done at 2024-10-18 17:24:03\n",
      "2024-10-18 17:24:03,724 INFO     pid:21660 nb:009:run Finished: p2ch11.prepcache.LunaPrepCacheApp.['--num-workers=4']).main()\n"
     ]
    }
   ],
   "source": [
    "run('p2ch11.prepcache.LunaPrepCacheApp')"
   ]
  },
  {
   "cell_type": "code",
   "execution_count": 6,
   "metadata": {},
   "outputs": [
    {
     "name": "stderr",
     "output_type": "stream",
     "text": [
      "2024-10-18 17:24:07,187 INFO     pid:21660 nb:004:run Running: p2ch11.training.LunaTrainingApp(['--num-workers=4', '--epochs=1']).main()\n",
      "2024-10-18 17:24:07,421 INFO     pid:21660 p2ch11.training:079:initModel Using CUDA; 1 devices.\n",
      "2024-10-18 17:24:08,178 INFO     pid:21660 p2ch11.training:138:main Starting LunaTrainingApp, Namespace(num_workers=4, batch_size=32, epochs=1, tb_prefix='p2ch11', comment='dwlpt')\n",
      "2024-10-18 17:24:08,289 INFO     pid:21660 p2ch11.dsets:182:__init__ <p2ch11.dsets.LunaDataset object at 0x000001B73BA6BE80>: 346356 training samples\n",
      "2024-10-18 17:24:08,306 INFO     pid:21660 p2ch11.dsets:182:__init__ <p2ch11.dsets.LunaDataset object at 0x000001B7702A3E80>: 38484 validation samples\n",
      "2024-10-18 17:24:08,307 INFO     pid:21660 p2ch11.training:145:main Epoch 1 of 1, 10824/1203 batches of size 32*1\n",
      "2024-10-18 17:24:08,369 WARNING  pid:21660 util.util:219:enumerateWithEstimate E1 Training ----/10824, starting\n",
      "2024-10-18 17:24:20,639 INFO     pid:21660 util.util:236:enumerateWithEstimate E1 Training   16/10824, done at 2024-10-18 17:29:15, 0:04:55\n",
      "2024-10-18 17:24:22,764 INFO     pid:21660 util.util:236:enumerateWithEstimate E1 Training   64/10824, done at 2024-10-18 17:31:40, 0:07:19\n",
      "2024-10-18 17:24:30,796 INFO     pid:21660 util.util:236:enumerateWithEstimate E1 Training  256/10824, done at 2024-10-18 17:31:49, 0:07:29\n",
      "2024-10-18 17:25:03,626 INFO     pid:21660 util.util:236:enumerateWithEstimate E1 Training 1024/10824, done at 2024-10-18 17:31:59, 0:07:39\n",
      "2024-10-18 17:27:07,234 INFO     pid:21660 util.util:236:enumerateWithEstimate E1 Training 4096/10824, done at 2024-10-18 17:31:41, 0:07:21\n",
      "2024-10-18 17:31:40,083 WARNING  pid:21660 util.util:249:enumerateWithEstimate E1 Training ----/10824, done at 2024-10-18 17:31:40\n",
      "2024-10-18 17:31:40,089 INFO     pid:21660 p2ch11.training:259:logMetrics E1 LunaTrainingApp\n",
      "2024-10-18 17:31:40,102 INFO     pid:21660 p2ch11.training:289:logMetrics E1 trn      0.0209 loss,  99.7% correct, \n",
      "2024-10-18 17:31:40,102 INFO     pid:21660 p2ch11.training:298:logMetrics E1 trn_neg  0.0027 loss, 100.0% correct (345460 of 345485)\n",
      "2024-10-18 17:31:40,103 INFO     pid:21660 p2ch11.training:309:logMetrics E1 trn_pos  7.2441 loss,   0.0% correct (0 of 871)\n",
      "2024-10-18 17:31:40,122 WARNING  pid:21660 util.util:219:enumerateWithEstimate E1 Validation  ----/1203, starting\n",
      "2024-10-18 17:31:49,492 INFO     pid:21660 util.util:236:enumerateWithEstimate E1 Validation    16/1203, done at 2024-10-18 17:32:35, 0:00:46\n",
      "2024-10-18 17:31:51,461 INFO     pid:21660 util.util:236:enumerateWithEstimate E1 Validation    64/1203, done at 2024-10-18 17:32:37, 0:00:48\n",
      "2024-10-18 17:31:59,171 INFO     pid:21660 util.util:236:enumerateWithEstimate E1 Validation   256/1203, done at 2024-10-18 17:32:37, 0:00:48\n",
      "2024-10-18 17:32:30,214 INFO     pid:21660 util.util:236:enumerateWithEstimate E1 Validation  1024/1203, done at 2024-10-18 17:32:37, 0:00:48\n",
      "2024-10-18 17:32:37,831 WARNING  pid:21660 util.util:249:enumerateWithEstimate E1 Validation  ----/1203, done at 2024-10-18 17:32:37\n",
      "2024-10-18 17:32:37,833 INFO     pid:21660 p2ch11.training:259:logMetrics E1 LunaTrainingApp\n",
      "2024-10-18 17:32:37,834 INFO     pid:21660 p2ch11.training:289:logMetrics E1 val      0.0182 loss,  99.7% correct, \n",
      "2024-10-18 17:32:37,835 INFO     pid:21660 p2ch11.training:298:logMetrics E1 val_neg  0.0012 loss, 100.0% correct (38387 of 38387)\n",
      "2024-10-18 17:32:37,835 INFO     pid:21660 p2ch11.training:309:logMetrics E1 val_pos  6.7559 loss,   0.0% correct (0 of 97)\n",
      "2024-10-18 17:32:37,843 INFO     pid:21660 nb:009:run Finished: p2ch11.training.LunaTrainingApp.['--num-workers=4', '--epochs=1']).main()\n"
     ]
    }
   ],
   "source": [
    "run('p2ch11.training.LunaTrainingApp', '--epochs=1')"
   ]
  },
  {
   "cell_type": "code",
   "execution_count": 7,
   "metadata": {},
   "outputs": [
    {
     "name": "stderr",
     "output_type": "stream",
     "text": [
      "2024-10-18 17:32:46,588 INFO     pid:21660 nb:004:run Running: p2ch11.training.LunaTrainingApp(['--num-workers=4', '--epochs=2']).main()\n",
      "2024-10-18 17:32:46,592 INFO     pid:21660 p2ch11.training:079:initModel Using CUDA; 1 devices.\n",
      "2024-10-18 17:32:46,595 INFO     pid:21660 p2ch11.training:138:main Starting LunaTrainingApp, Namespace(num_workers=4, batch_size=32, epochs=2, tb_prefix='p2ch11', comment='dwlpt')\n",
      "2024-10-18 17:32:46,726 INFO     pid:21660 p2ch11.dsets:182:__init__ <p2ch11.dsets.LunaDataset object at 0x000001B777B22890>: 346356 training samples\n",
      "2024-10-18 17:32:46,743 INFO     pid:21660 p2ch11.dsets:182:__init__ <p2ch11.dsets.LunaDataset object at 0x000001B73BA6BA00>: 38484 validation samples\n",
      "2024-10-18 17:32:46,743 INFO     pid:21660 p2ch11.training:145:main Epoch 1 of 2, 10824/1203 batches of size 32*1\n",
      "2024-10-18 17:32:46,744 WARNING  pid:21660 util.util:219:enumerateWithEstimate E1 Training ----/10824, starting\n",
      "2024-10-18 17:32:58,026 INFO     pid:21660 util.util:236:enumerateWithEstimate E1 Training   16/10824, done at 2024-10-18 17:39:32, 0:06:35\n",
      "2024-10-18 17:32:59,929 INFO     pid:21660 util.util:236:enumerateWithEstimate E1 Training   64/10824, done at 2024-10-18 17:39:59, 0:07:01\n",
      "2024-10-18 17:33:08,038 INFO     pid:21660 util.util:236:enumerateWithEstimate E1 Training  256/10824, done at 2024-10-18 17:40:26, 0:07:28\n",
      "2024-10-18 17:33:40,728 INFO     pid:21660 util.util:236:enumerateWithEstimate E1 Training 1024/10824, done at 2024-10-18 17:40:35, 0:07:37\n",
      "2024-10-18 17:35:42,033 INFO     pid:21660 util.util:236:enumerateWithEstimate E1 Training 4096/10824, done at 2024-10-18 17:40:12, 0:07:14\n",
      "2024-10-18 17:40:01,306 WARNING  pid:21660 util.util:249:enumerateWithEstimate E1 Training ----/10824, done at 2024-10-18 17:40:01\n",
      "2024-10-18 17:40:01,311 INFO     pid:21660 p2ch11.training:259:logMetrics E1 LunaTrainingApp\n",
      "2024-10-18 17:40:01,318 INFO     pid:21660 p2ch11.training:289:logMetrics E1 trn      0.0195 loss,  99.7% correct, \n",
      "2024-10-18 17:40:01,319 INFO     pid:21660 p2ch11.training:298:logMetrics E1 trn_neg  0.0026 loss, 100.0% correct (345470 of 345485)\n",
      "2024-10-18 17:40:01,319 INFO     pid:21660 p2ch11.training:309:logMetrics E1 trn_pos  6.7084 loss,   0.0% correct (0 of 871)\n",
      "2024-10-18 17:40:01,335 WARNING  pid:21660 util.util:219:enumerateWithEstimate E1 Validation  ----/1203, starting\n",
      "2024-10-18 17:40:10,014 INFO     pid:21660 util.util:236:enumerateWithEstimate E1 Validation    16/1203, done at 2024-10-18 17:40:54, 0:00:45\n",
      "2024-10-18 17:40:11,888 INFO     pid:21660 util.util:236:enumerateWithEstimate E1 Validation    64/1203, done at 2024-10-18 17:40:55, 0:00:46\n",
      "2024-10-18 17:40:19,254 INFO     pid:21660 util.util:236:enumerateWithEstimate E1 Validation   256/1203, done at 2024-10-18 17:40:55, 0:00:46\n",
      "2024-10-18 17:40:48,360 INFO     pid:21660 util.util:236:enumerateWithEstimate E1 Validation  1024/1203, done at 2024-10-18 17:40:55, 0:00:45\n",
      "2024-10-18 17:40:55,543 WARNING  pid:21660 util.util:249:enumerateWithEstimate E1 Validation  ----/1203, done at 2024-10-18 17:40:55\n",
      "2024-10-18 17:40:55,544 INFO     pid:21660 p2ch11.training:259:logMetrics E1 LunaTrainingApp\n",
      "2024-10-18 17:40:55,545 INFO     pid:21660 p2ch11.training:289:logMetrics E1 val      0.0178 loss,  99.7% correct, \n",
      "2024-10-18 17:40:55,546 INFO     pid:21660 p2ch11.training:298:logMetrics E1 val_neg  0.0037 loss, 100.0% correct (38387 of 38387)\n",
      "2024-10-18 17:40:55,546 INFO     pid:21660 p2ch11.training:309:logMetrics E1 val_pos  5.6050 loss,   0.0% correct (0 of 97)\n",
      "2024-10-18 17:40:55,550 INFO     pid:21660 p2ch11.training:145:main Epoch 2 of 2, 10824/1203 batches of size 32*1\n",
      "2024-10-18 17:40:55,551 WARNING  pid:21660 util.util:219:enumerateWithEstimate E2 Training ----/10824, starting\n",
      "2024-10-18 17:41:06,380 INFO     pid:21660 util.util:236:enumerateWithEstimate E2 Training   16/10824, done at 2024-10-18 17:47:33, 0:06:27\n",
      "2024-10-18 17:41:08,253 INFO     pid:21660 util.util:236:enumerateWithEstimate E2 Training   64/10824, done at 2024-10-18 17:48:00, 0:06:54\n",
      "2024-10-18 17:41:15,693 INFO     pid:21660 util.util:236:enumerateWithEstimate E2 Training  256/10824, done at 2024-10-18 17:48:04, 0:06:58\n",
      "2024-10-18 17:41:45,198 INFO     pid:21660 util.util:236:enumerateWithEstimate E2 Training 1024/10824, done at 2024-10-18 17:48:02, 0:06:56\n",
      "2024-10-18 17:43:44,858 INFO     pid:21660 util.util:236:enumerateWithEstimate E2 Training 4096/10824, done at 2024-10-18 17:48:06, 0:07:00\n",
      "2024-10-18 17:48:05,579 WARNING  pid:21660 util.util:249:enumerateWithEstimate E2 Training ----/10824, done at 2024-10-18 17:48:05\n",
      "2024-10-18 17:48:05,582 INFO     pid:21660 p2ch11.training:259:logMetrics E2 LunaTrainingApp\n",
      "2024-10-18 17:48:05,588 INFO     pid:21660 p2ch11.training:289:logMetrics E2 trn      0.0182 loss,  99.7% correct, \n",
      "2024-10-18 17:48:05,588 INFO     pid:21660 p2ch11.training:298:logMetrics E2 trn_neg  0.0025 loss, 100.0% correct (345485 of 345485)\n",
      "2024-10-18 17:48:05,589 INFO     pid:21660 p2ch11.training:309:logMetrics E2 trn_pos  6.2347 loss,   0.0% correct (0 of 871)\n",
      "2024-10-18 17:48:05,603 WARNING  pid:21660 util.util:219:enumerateWithEstimate E2 Validation  ----/1203, starting\n",
      "2024-10-18 17:48:14,363 INFO     pid:21660 util.util:236:enumerateWithEstimate E2 Validation    16/1203, done at 2024-10-18 17:48:59, 0:00:45\n",
      "2024-10-18 17:48:16,293 INFO     pid:21660 util.util:236:enumerateWithEstimate E2 Validation    64/1203, done at 2024-10-18 17:49:01, 0:00:47\n",
      "2024-10-18 17:48:23,755 INFO     pid:21660 util.util:236:enumerateWithEstimate E2 Validation   256/1203, done at 2024-10-18 17:49:00, 0:00:46\n",
      "2024-10-18 17:48:53,615 INFO     pid:21660 util.util:236:enumerateWithEstimate E2 Validation  1024/1203, done at 2024-10-18 17:49:00, 0:00:46\n",
      "2024-10-18 17:49:01,042 WARNING  pid:21660 util.util:249:enumerateWithEstimate E2 Validation  ----/1203, done at 2024-10-18 17:49:01\n",
      "2024-10-18 17:49:01,043 INFO     pid:21660 p2ch11.training:259:logMetrics E2 LunaTrainingApp\n",
      "2024-10-18 17:49:01,045 INFO     pid:21660 p2ch11.training:289:logMetrics E2 val      0.0177 loss,  99.7% correct, \n",
      "2024-10-18 17:49:01,045 INFO     pid:21660 p2ch11.training:298:logMetrics E2 val_neg  0.0035 loss, 100.0% correct (38387 of 38387)\n",
      "2024-10-18 17:49:01,045 INFO     pid:21660 p2ch11.training:309:logMetrics E2 val_pos  5.6665 loss,   0.0% correct (0 of 97)\n",
      "2024-10-18 17:49:01,054 INFO     pid:21660 nb:009:run Finished: p2ch11.training.LunaTrainingApp.['--num-workers=4', '--epochs=2']).main()\n"
     ]
    }
   ],
   "source": [
    "run('p2ch11.training.LunaTrainingApp', f'--epochs={experiment_epochs}')"
   ]
  },
  {
   "cell_type": "markdown",
   "metadata": {},
   "source": [
    "## Chapter 12"
   ]
  },
  {
   "cell_type": "code",
   "execution_count": 8,
   "metadata": {},
   "outputs": [
    {
     "name": "stderr",
     "output_type": "stream",
     "text": [
      "2024-10-18 17:49:12,581 INFO     pid:21660 nb:004:run Running: p2ch12.prepcache.LunaPrepCacheApp(['--num-workers=4']).main()\n",
      "2024-10-18 17:49:13,417 INFO     pid:21660 p2ch12.prepcache:043:main Starting LunaPrepCacheApp, Namespace(batch_size=1024, num_workers=4)\n",
      "2024-10-18 17:49:15,241 INFO     pid:21660 p2ch12.dsets:266:__init__ <p2ch12.dsets.LunaDataset object at 0x000001B777B22410>: 384840 training samples, 383872 neg, 968 pos, unbalanced ratio\n",
      "2024-10-18 17:49:15,242 WARNING  pid:21660 util.util:219:enumerateWithEstimate Stuffing cache ----/376, starting\n",
      "2024-10-18 17:49:44,447 INFO     pid:21660 util.util:236:enumerateWithEstimate Stuffing cache   16/376, done at 2024-10-18 17:56:16, 0:06:46\n",
      "2024-10-18 17:50:31,470 INFO     pid:21660 util.util:236:enumerateWithEstimate Stuffing cache   64/376, done at 2024-10-18 17:55:43, 0:06:13\n",
      "2024-10-18 17:53:45,616 INFO     pid:21660 util.util:236:enumerateWithEstimate Stuffing cache  256/376, done at 2024-10-18 17:55:45, 0:06:15\n",
      "2024-10-18 17:55:49,122 WARNING  pid:21660 util.util:249:enumerateWithEstimate Stuffing cache ----/376, done at 2024-10-18 17:55:49\n",
      "2024-10-18 17:55:49,156 INFO     pid:21660 nb:009:run Finished: p2ch12.prepcache.LunaPrepCacheApp.['--num-workers=4']).main()\n"
     ]
    }
   ],
   "source": [
    "run('p2ch12.prepcache.LunaPrepCacheApp')"
   ]
  },
  {
   "cell_type": "code",
   "execution_count": 9,
   "metadata": {},
   "outputs": [
    {
     "name": "stderr",
     "output_type": "stream",
     "text": [
      "2024-10-18 17:55:49,171 INFO     pid:21660 nb:004:run Running: p2ch12.training.LunaTrainingApp(['--num-workers=4', '--epochs=1', 'unbalanced']).main()\n",
      "2024-10-18 17:55:49,195 INFO     pid:21660 p2ch12.training:127:initModel Using CUDA; 1 devices.\n",
      "2024-10-18 17:55:49,197 INFO     pid:21660 p2ch12.training:188:main Starting LunaTrainingApp, Namespace(batch_size=32, num_workers=4, epochs=1, balanced=False, augmented=False, augment_flip=False, augment_offset=False, augment_scale=False, augment_rotate=False, augment_noise=False, tb_prefix='p2ch12', comment='unbalanced')\n",
      "2024-10-18 17:55:49,365 INFO     pid:21660 p2ch12.dsets:266:__init__ <p2ch12.dsets.LunaDataset object at 0x000001B76BC81A20>: 346356 training samples, 345485 neg, 871 pos, unbalanced ratio\n",
      "2024-10-18 17:55:49,384 INFO     pid:21660 p2ch12.dsets:266:__init__ <p2ch12.dsets.LunaDataset object at 0x000001B77AFA5030>: 38484 validation samples, 38387 neg, 97 pos, unbalanced ratio\n",
      "2024-10-18 17:55:49,384 INFO     pid:21660 p2ch12.training:195:main Epoch 1 of 1, 10824/1203 batches of size 32*1\n",
      "2024-10-18 17:55:49,385 WARNING  pid:21660 util.util:219:enumerateWithEstimate E1 Training ----/10824, starting\n",
      "2024-10-18 17:56:01,637 INFO     pid:21660 util.util:236:enumerateWithEstimate E1 Training   16/10824, done at 2024-10-18 18:03:27, 0:07:26\n",
      "2024-10-18 17:56:03,696 INFO     pid:21660 util.util:236:enumerateWithEstimate E1 Training   64/10824, done at 2024-10-18 18:03:41, 0:07:40\n",
      "2024-10-18 17:56:12,001 INFO     pid:21660 util.util:236:enumerateWithEstimate E1 Training  256/10824, done at 2024-10-18 18:03:47, 0:07:46\n",
      "2024-10-18 17:56:44,896 INFO     pid:21660 util.util:236:enumerateWithEstimate E1 Training 1024/10824, done at 2024-10-18 18:03:45, 0:07:44\n",
      "2024-10-18 17:58:50,311 INFO     pid:21660 util.util:236:enumerateWithEstimate E1 Training 4096/10824, done at 2024-10-18 18:03:28, 0:07:27\n",
      "2024-10-18 18:03:22,355 WARNING  pid:21660 util.util:249:enumerateWithEstimate E1 Training ----/10824, done at 2024-10-18 18:03:22\n",
      "2024-10-18 18:03:22,360 INFO     pid:21660 p2ch12.training:304:logMetrics E1 LunaTrainingApp\n",
      "c:\\lung cancer\\dlwpt-code\\p2ch12\\training.py:339: RuntimeWarning: invalid value encountered in scalar divide\n",
      "  2 * (precision * recall) / (precision + recall)\n",
      "2024-10-18 18:03:22,375 INFO     pid:21660 p2ch12.training:341:logMetrics E1 trn      0.0188 loss,  99.7% correct, 0.0000 precision, 0.0000 recall, nan f1 score\n",
      "2024-10-18 18:03:22,376 INFO     pid:21660 p2ch12.training:353:logMetrics E1 trn_neg  0.0026 loss, 100.0% correct (345472 of 345485)\n",
      "2024-10-18 18:03:22,377 INFO     pid:21660 p2ch12.training:364:logMetrics E1 trn_pos  6.4452 loss,   0.0% correct (0 of 871)\n",
      "2024-10-18 18:03:22,394 WARNING  pid:21660 util.util:219:enumerateWithEstimate E1 Validation  ----/1203, starting\n",
      "2024-10-18 18:03:31,630 INFO     pid:21660 util.util:236:enumerateWithEstimate E1 Validation    16/1203, done at 2024-10-18 18:04:15, 0:00:44\n",
      "2024-10-18 18:03:33,566 INFO     pid:21660 util.util:236:enumerateWithEstimate E1 Validation    64/1203, done at 2024-10-18 18:04:18, 0:00:47\n",
      "2024-10-18 18:03:41,210 INFO     pid:21660 util.util:236:enumerateWithEstimate E1 Validation   256/1203, done at 2024-10-18 18:04:18, 0:00:47\n",
      "2024-10-18 18:04:11,998 INFO     pid:21660 util.util:236:enumerateWithEstimate E1 Validation  1024/1203, done at 2024-10-18 18:04:19, 0:00:47\n",
      "2024-10-18 18:04:19,620 WARNING  pid:21660 util.util:249:enumerateWithEstimate E1 Validation  ----/1203, done at 2024-10-18 18:04:19\n",
      "2024-10-18 18:04:19,622 INFO     pid:21660 p2ch12.training:304:logMetrics E1 LunaTrainingApp\n",
      "c:\\lung cancer\\dlwpt-code\\p2ch12\\training.py:334: RuntimeWarning: invalid value encountered in divide\n",
      "  truePos_count / np.float32(truePos_count + falsePos_count)\n",
      "2024-10-18 18:04:19,623 INFO     pid:21660 p2ch12.training:341:logMetrics E1 val      0.0176 loss,  99.7% correct, nan precision, 0.0000 recall, nan f1 score\n",
      "2024-10-18 18:04:19,624 INFO     pid:21660 p2ch12.training:353:logMetrics E1 val_neg  0.0031 loss, 100.0% correct (38387 of 38387)\n",
      "2024-10-18 18:04:19,624 INFO     pid:21660 p2ch12.training:364:logMetrics E1 val_pos  5.7899 loss,   0.0% correct (0 of 97)\n",
      "2024-10-18 18:04:19,829 INFO     pid:21660 nb:009:run Finished: p2ch12.training.LunaTrainingApp.['--num-workers=4', '--epochs=1', 'unbalanced']).main()\n"
     ]
    }
   ],
   "source": [
    "run('p2ch12.training.LunaTrainingApp', '--epochs=1', 'unbalanced')"
   ]
  },
  {
   "cell_type": "code",
   "execution_count": 10,
   "metadata": {},
   "outputs": [
    {
     "name": "stderr",
     "output_type": "stream",
     "text": [
      "2024-10-18 18:10:22,199 INFO     pid:21660 nb:004:run Running: p2ch12.training.LunaTrainingApp(['--num-workers=4', '--epochs=2', '--balanced', 'balanced']).main()\n",
      "2024-10-18 18:10:22,203 INFO     pid:21660 p2ch12.training:127:initModel Using CUDA; 1 devices.\n",
      "2024-10-18 18:10:22,205 INFO     pid:21660 p2ch12.training:188:main Starting LunaTrainingApp, Namespace(batch_size=32, num_workers=4, epochs=2, balanced=True, augmented=False, augment_flip=False, augment_offset=False, augment_scale=False, augment_rotate=False, augment_noise=False, tb_prefix='p2ch12', comment='balanced')\n",
      "2024-10-18 18:10:22,368 INFO     pid:21660 p2ch12.dsets:266:__init__ <p2ch12.dsets.LunaDataset object at 0x000001B77AFA4D60>: 346356 training samples, 345485 neg, 871 pos, 1:1 ratio\n",
      "2024-10-18 18:10:22,389 INFO     pid:21660 p2ch12.dsets:266:__init__ <p2ch12.dsets.LunaDataset object at 0x000001B77AFA6140>: 38484 validation samples, 38387 neg, 97 pos, unbalanced ratio\n",
      "2024-10-18 18:10:22,402 INFO     pid:21660 p2ch12.training:195:main Epoch 1 of 2, 6250/1203 batches of size 32*1\n",
      "2024-10-18 18:10:22,505 WARNING  pid:21660 util.util:219:enumerateWithEstimate E1 Training ----/6250, starting\n",
      "2024-10-18 18:10:33,717 INFO     pid:21660 util.util:236:enumerateWithEstimate E1 Training   16/6250, done at 2024-10-18 18:14:04, 0:03:30\n",
      "2024-10-18 18:10:35,352 INFO     pid:21660 util.util:236:enumerateWithEstimate E1 Training   64/6250, done at 2024-10-18 18:14:05, 0:03:32\n",
      "2024-10-18 18:10:40,903 INFO     pid:21660 util.util:236:enumerateWithEstimate E1 Training  256/6250, done at 2024-10-18 18:13:41, 0:03:08\n",
      "2024-10-18 18:11:03,190 INFO     pid:21660 util.util:236:enumerateWithEstimate E1 Training 1024/6250, done at 2024-10-18 18:13:36, 0:03:02\n",
      "2024-10-18 18:12:32,495 INFO     pid:21660 util.util:236:enumerateWithEstimate E1 Training 4096/6250, done at 2024-10-18 18:13:35, 0:03:01\n",
      "2024-10-18 18:13:36,219 WARNING  pid:21660 util.util:249:enumerateWithEstimate E1 Training ----/6250, done at 2024-10-18 18:13:36\n",
      "2024-10-18 18:13:36,223 INFO     pid:21660 p2ch12.training:304:logMetrics E1 LunaTrainingApp\n",
      "2024-10-18 18:13:36,227 INFO     pid:21660 p2ch12.training:341:logMetrics E1 trn      0.2212 loss,  91.4% correct, 0.9329 precision, 0.8915 recall, 0.9117 f1 score\n",
      "2024-10-18 18:13:36,227 INFO     pid:21660 p2ch12.training:353:logMetrics E1 trn_neg  0.2116 loss,  93.6% correct (93584 of 100000)\n",
      "2024-10-18 18:13:36,227 INFO     pid:21660 p2ch12.training:364:logMetrics E1 trn_pos  0.2307 loss,  89.2% correct (89154 of 100000)\n",
      "2024-10-18 18:13:36,249 WARNING  pid:21660 util.util:219:enumerateWithEstimate E1 Validation  ----/1203, starting\n",
      "2024-10-18 18:13:44,635 INFO     pid:21660 util.util:236:enumerateWithEstimate E1 Validation    16/1203, done at 2024-10-18 18:14:26, 0:00:42\n",
      "2024-10-18 18:13:46,463 INFO     pid:21660 util.util:236:enumerateWithEstimate E1 Validation    64/1203, done at 2024-10-18 18:14:29, 0:00:44\n",
      "2024-10-18 18:13:53,761 INFO     pid:21660 util.util:236:enumerateWithEstimate E1 Validation   256/1203, done at 2024-10-18 18:14:29, 0:00:45\n",
      "2024-10-18 18:14:23,169 INFO     pid:21660 util.util:236:enumerateWithEstimate E1 Validation  1024/1203, done at 2024-10-18 18:14:29, 0:00:45\n",
      "2024-10-18 18:14:30,497 WARNING  pid:21660 util.util:249:enumerateWithEstimate E1 Validation  ----/1203, done at 2024-10-18 18:14:30\n",
      "2024-10-18 18:14:30,499 INFO     pid:21660 p2ch12.training:304:logMetrics E1 LunaTrainingApp\n",
      "2024-10-18 18:14:30,500 INFO     pid:21660 p2ch12.training:341:logMetrics E1 val      0.1669 loss,  96.0% correct, 0.0533 precision, 0.8969 recall, 0.1007 f1 score\n",
      "2024-10-18 18:14:30,500 INFO     pid:21660 p2ch12.training:353:logMetrics E1 val_neg  0.1665 loss,  96.0% correct (36843 of 38387)\n",
      "2024-10-18 18:14:30,501 INFO     pid:21660 p2ch12.training:364:logMetrics E1 val_pos  0.3284 loss,  89.7% correct (87 of 97)\n",
      "2024-10-18 18:14:30,507 INFO     pid:21660 p2ch12.training:195:main Epoch 2 of 2, 6250/1203 batches of size 32*1\n",
      "2024-10-18 18:14:30,619 WARNING  pid:21660 util.util:219:enumerateWithEstimate E2 Training ----/6250, starting\n",
      "2024-10-18 18:14:41,381 INFO     pid:21660 util.util:236:enumerateWithEstimate E2 Training   16/6250, done at 2024-10-18 18:17:17, 0:02:36\n",
      "2024-10-18 18:14:42,767 INFO     pid:21660 util.util:236:enumerateWithEstimate E2 Training   64/6250, done at 2024-10-18 18:17:36, 0:02:55\n",
      "2024-10-18 18:14:48,342 INFO     pid:21660 util.util:236:enumerateWithEstimate E2 Training  256/6250, done at 2024-10-18 18:17:40, 0:02:59\n",
      "2024-10-18 18:15:10,605 INFO     pid:21660 util.util:236:enumerateWithEstimate E2 Training 1024/6250, done at 2024-10-18 18:17:41, 0:03:00\n",
      "2024-10-18 18:16:39,749 INFO     pid:21660 util.util:236:enumerateWithEstimate E2 Training 4096/6250, done at 2024-10-18 18:17:42, 0:03:01\n",
      "2024-10-18 18:17:43,370 WARNING  pid:21660 util.util:249:enumerateWithEstimate E2 Training ----/6250, done at 2024-10-18 18:17:43\n",
      "2024-10-18 18:17:43,490 INFO     pid:21660 p2ch12.training:304:logMetrics E2 LunaTrainingApp\n",
      "2024-10-18 18:17:43,494 INFO     pid:21660 p2ch12.training:341:logMetrics E2 trn      0.1261 loss,  95.9% correct, 0.9668 precision, 0.9506 recall, 0.9586 f1 score\n",
      "2024-10-18 18:17:43,494 INFO     pid:21660 p2ch12.training:353:logMetrics E2 trn_neg  0.1280 loss,  96.7% correct (96734 of 100000)\n",
      "2024-10-18 18:17:43,495 INFO     pid:21660 p2ch12.training:364:logMetrics E2 trn_pos  0.1242 loss,  95.1% correct (95055 of 100000)\n",
      "2024-10-18 18:17:43,510 WARNING  pid:21660 util.util:219:enumerateWithEstimate E2 Validation  ----/1203, starting\n",
      "2024-10-18 18:17:51,844 INFO     pid:21660 util.util:236:enumerateWithEstimate E2 Validation    16/1203, done at 2024-10-18 18:18:32, 0:00:40\n",
      "2024-10-18 18:17:53,701 INFO     pid:21660 util.util:236:enumerateWithEstimate E2 Validation    64/1203, done at 2024-10-18 18:18:36, 0:00:45\n",
      "2024-10-18 18:18:00,905 INFO     pid:21660 util.util:236:enumerateWithEstimate E2 Validation   256/1203, done at 2024-10-18 18:18:36, 0:00:45\n",
      "2024-10-18 18:18:30,861 INFO     pid:21660 util.util:236:enumerateWithEstimate E2 Validation  1024/1203, done at 2024-10-18 18:18:37, 0:00:46\n",
      "2024-10-18 18:18:38,099 WARNING  pid:21660 util.util:249:enumerateWithEstimate E2 Validation  ----/1203, done at 2024-10-18 18:18:38\n",
      "2024-10-18 18:18:38,100 INFO     pid:21660 p2ch12.training:304:logMetrics E2 LunaTrainingApp\n",
      "2024-10-18 18:18:38,101 INFO     pid:21660 p2ch12.training:341:logMetrics E2 val      0.0458 loss,  99.0% correct, 0.1656 precision, 0.7835 recall, 0.2734 f1 score\n",
      "2024-10-18 18:18:38,102 INFO     pid:21660 p2ch12.training:353:logMetrics E2 val_neg  0.0437 loss,  99.0% correct (38004 of 38387)\n",
      "2024-10-18 18:18:38,103 INFO     pid:21660 p2ch12.training:364:logMetrics E2 val_pos  0.8700 loss,  78.4% correct (76 of 97)\n",
      "2024-10-18 18:18:38,228 INFO     pid:21660 nb:009:run Finished: p2ch12.training.LunaTrainingApp.['--num-workers=4', '--epochs=2', '--balanced', 'balanced']).main()\n"
     ]
    }
   ],
   "source": [
    "run('p2ch12.training.LunaTrainingApp', f'--epochs={training_epochs}', '--balanced', 'balanced')"
   ]
  },
  {
   "cell_type": "code",
   "execution_count": 11,
   "metadata": {},
   "outputs": [
    {
     "name": "stderr",
     "output_type": "stream",
     "text": [
      "2024-10-18 18:18:38,248 INFO     pid:21660 nb:004:run Running: p2ch12.training.LunaTrainingApp(['--num-workers=4', '--epochs=2', '--balanced', '--augment-flip', 'flip']).main()\n",
      "2024-10-18 18:18:38,253 INFO     pid:21660 p2ch12.training:127:initModel Using CUDA; 1 devices.\n",
      "2024-10-18 18:18:38,254 INFO     pid:21660 p2ch12.training:188:main Starting LunaTrainingApp, Namespace(batch_size=32, num_workers=4, epochs=2, balanced=True, augmented=False, augment_flip=True, augment_offset=False, augment_scale=False, augment_rotate=False, augment_noise=False, tb_prefix='p2ch12', comment='flip')\n",
      "2024-10-18 18:18:38,421 INFO     pid:21660 p2ch12.dsets:266:__init__ <p2ch12.dsets.LunaDataset object at 0x000001B761F2BFA0>: 346356 training samples, 345485 neg, 871 pos, 1:1 ratio\n",
      "2024-10-18 18:18:38,441 INFO     pid:21660 p2ch12.dsets:266:__init__ <p2ch12.dsets.LunaDataset object at 0x000001B77AFA58D0>: 38484 validation samples, 38387 neg, 97 pos, unbalanced ratio\n",
      "2024-10-18 18:18:38,442 INFO     pid:21660 p2ch12.training:195:main Epoch 1 of 2, 6250/1203 batches of size 32*1\n",
      "2024-10-18 18:18:38,554 WARNING  pid:21660 util.util:219:enumerateWithEstimate E1 Training ----/6250, starting\n",
      "2024-10-18 18:18:49,597 INFO     pid:21660 util.util:236:enumerateWithEstimate E1 Training   16/6250, done at 2024-10-18 18:22:45, 0:03:56\n",
      "2024-10-18 18:18:51,536 INFO     pid:21660 util.util:236:enumerateWithEstimate E1 Training   64/6250, done at 2024-10-18 18:22:57, 0:04:08\n",
      "2024-10-18 18:18:59,368 INFO     pid:21660 util.util:236:enumerateWithEstimate E1 Training  256/6250, done at 2024-10-18 18:23:02, 0:04:13\n",
      "2024-10-18 18:19:30,799 INFO     pid:21660 util.util:236:enumerateWithEstimate E1 Training 1024/6250, done at 2024-10-18 18:23:04, 0:04:15\n",
      "2024-10-18 18:21:38,484 INFO     pid:21660 util.util:236:enumerateWithEstimate E1 Training 4096/6250, done at 2024-10-18 18:23:07, 0:04:18\n",
      "2024-10-18 18:23:09,863 WARNING  pid:21660 util.util:249:enumerateWithEstimate E1 Training ----/6250, done at 2024-10-18 18:23:09\n",
      "2024-10-18 18:23:09,869 INFO     pid:21660 p2ch12.training:304:logMetrics E1 LunaTrainingApp\n",
      "2024-10-18 18:23:09,873 INFO     pid:21660 p2ch12.training:341:logMetrics E1 trn      0.6938 loss,  50.1% correct, 0.5010 precision, 0.4995 recall, 0.5002 f1 score\n",
      "2024-10-18 18:23:09,873 INFO     pid:21660 p2ch12.training:353:logMetrics E1 trn_neg  0.6940 loss,  50.3% correct (50257 of 100000)\n",
      "2024-10-18 18:23:09,873 INFO     pid:21660 p2ch12.training:364:logMetrics E1 trn_pos  0.6936 loss,  49.9% correct (49946 of 100000)\n",
      "2024-10-18 18:23:09,894 WARNING  pid:21660 util.util:219:enumerateWithEstimate E1 Validation  ----/1203, starting\n",
      "2024-10-18 18:23:18,175 INFO     pid:21660 util.util:236:enumerateWithEstimate E1 Validation    16/1203, done at 2024-10-18 18:23:58, 0:00:40\n",
      "2024-10-18 18:23:20,005 INFO     pid:21660 util.util:236:enumerateWithEstimate E1 Validation    64/1203, done at 2024-10-18 18:24:02, 0:00:44\n",
      "2024-10-18 18:23:27,333 INFO     pid:21660 util.util:236:enumerateWithEstimate E1 Validation   256/1203, done at 2024-10-18 18:24:03, 0:00:45\n",
      "2024-10-18 18:23:56,668 INFO     pid:21660 util.util:236:enumerateWithEstimate E1 Validation  1024/1203, done at 2024-10-18 18:24:03, 0:00:45\n",
      "2024-10-18 18:24:03,937 WARNING  pid:21660 util.util:249:enumerateWithEstimate E1 Validation  ----/1203, done at 2024-10-18 18:24:03\n",
      "2024-10-18 18:24:03,938 INFO     pid:21660 p2ch12.training:304:logMetrics E1 LunaTrainingApp\n",
      "2024-10-18 18:24:03,939 INFO     pid:21660 p2ch12.training:341:logMetrics E1 val      0.6938 loss,   3.3% correct, 0.0024 precision, 0.9278 recall, 0.0048 f1 score\n",
      "2024-10-18 18:24:03,940 INFO     pid:21660 p2ch12.training:353:logMetrics E1 val_neg  0.6938 loss,   3.0% correct (1167 of 38387)\n",
      "2024-10-18 18:24:03,940 INFO     pid:21660 p2ch12.training:364:logMetrics E1 val_pos  0.6924 loss,  92.8% correct (90 of 97)\n",
      "2024-10-18 18:24:03,946 INFO     pid:21660 p2ch12.training:195:main Epoch 2 of 2, 6250/1203 batches of size 32*1\n",
      "2024-10-18 18:24:04,054 WARNING  pid:21660 util.util:219:enumerateWithEstimate E2 Training ----/6250, starting\n",
      "2024-10-18 18:24:14,950 INFO     pid:21660 util.util:236:enumerateWithEstimate E2 Training   16/6250, done at 2024-10-18 18:28:02, 0:03:47\n",
      "2024-10-18 18:24:16,903 INFO     pid:21660 util.util:236:enumerateWithEstimate E2 Training   64/6250, done at 2024-10-18 18:28:22, 0:04:08\n",
      "2024-10-18 18:24:24,802 INFO     pid:21660 util.util:236:enumerateWithEstimate E2 Training  256/6250, done at 2024-10-18 18:28:29, 0:04:14\n",
      "2024-10-18 18:24:56,178 INFO     pid:21660 util.util:236:enumerateWithEstimate E2 Training 1024/6250, done at 2024-10-18 18:28:29, 0:04:15\n",
      "2024-10-18 18:27:05,643 INFO     pid:21660 util.util:236:enumerateWithEstimate E2 Training 4096/6250, done at 2024-10-18 18:28:35, 0:04:21\n",
      "2024-10-18 18:28:42,113 WARNING  pid:21660 util.util:249:enumerateWithEstimate E2 Training ----/6250, done at 2024-10-18 18:28:42\n",
      "2024-10-18 18:28:42,222 INFO     pid:21660 p2ch12.training:304:logMetrics E2 LunaTrainingApp\n",
      "2024-10-18 18:28:42,226 INFO     pid:21660 p2ch12.training:341:logMetrics E2 trn      0.4448 loss,  74.6% correct, 0.7642 precision, 0.7127 recall, 0.7376 f1 score\n",
      "2024-10-18 18:28:42,227 INFO     pid:21660 p2ch12.training:353:logMetrics E2 trn_neg  0.4210 loss,  78.0% correct (78005 of 100000)\n",
      "2024-10-18 18:28:42,228 INFO     pid:21660 p2ch12.training:364:logMetrics E2 trn_pos  0.4686 loss,  71.3% correct (71274 of 100000)\n",
      "2024-10-18 18:28:42,249 WARNING  pid:21660 util.util:219:enumerateWithEstimate E2 Validation  ----/1203, starting\n",
      "2024-10-18 18:28:51,041 INFO     pid:21660 util.util:236:enumerateWithEstimate E2 Validation    16/1203, done at 2024-10-18 18:29:34, 0:00:43\n",
      "2024-10-18 18:28:52,918 INFO     pid:21660 util.util:236:enumerateWithEstimate E2 Validation    64/1203, done at 2024-10-18 18:29:36, 0:00:46\n",
      "2024-10-18 18:29:00,874 INFO     pid:21660 util.util:236:enumerateWithEstimate E2 Validation   256/1203, done at 2024-10-18 18:29:39, 0:00:48\n",
      "2024-10-18 18:29:31,381 INFO     pid:21660 util.util:236:enumerateWithEstimate E2 Validation  1024/1203, done at 2024-10-18 18:29:38, 0:00:47\n",
      "2024-10-18 18:29:38,976 WARNING  pid:21660 util.util:249:enumerateWithEstimate E2 Validation  ----/1203, done at 2024-10-18 18:29:38\n",
      "2024-10-18 18:29:38,976 INFO     pid:21660 p2ch12.training:304:logMetrics E2 LunaTrainingApp\n",
      "2024-10-18 18:29:38,979 INFO     pid:21660 p2ch12.training:341:logMetrics E2 val      0.2821 loss,  92.8% correct, 0.0304 precision, 0.8866 recall, 0.0588 f1 score\n",
      "2024-10-18 18:29:38,979 INFO     pid:21660 p2ch12.training:353:logMetrics E2 val_neg  0.2822 loss,  92.9% correct (35646 of 38387)\n",
      "2024-10-18 18:29:38,980 INFO     pid:21660 p2ch12.training:364:logMetrics E2 val_pos  0.2311 loss,  88.7% correct (86 of 97)\n",
      "2024-10-18 18:29:39,116 INFO     pid:21660 nb:009:run Finished: p2ch12.training.LunaTrainingApp.['--num-workers=4', '--epochs=2', '--balanced', '--augment-flip', 'flip']).main()\n"
     ]
    }
   ],
   "source": [
    "run('p2ch12.training.LunaTrainingApp', f'--epochs={experiment_epochs}', '--balanced', '--augment-flip', 'flip')"
   ]
  },
  {
   "cell_type": "code",
   "execution_count": 12,
   "metadata": {},
   "outputs": [
    {
     "name": "stderr",
     "output_type": "stream",
     "text": [
      "2024-10-18 18:29:39,131 INFO     pid:21660 nb:004:run Running: p2ch12.training.LunaTrainingApp(['--num-workers=4', '--epochs=2', '--balanced', '--augment-offset', 'offset']).main()\n",
      "2024-10-18 18:29:39,135 INFO     pid:21660 p2ch12.training:127:initModel Using CUDA; 1 devices.\n",
      "2024-10-18 18:29:39,136 INFO     pid:21660 p2ch12.training:188:main Starting LunaTrainingApp, Namespace(batch_size=32, num_workers=4, epochs=2, balanced=True, augmented=False, augment_flip=False, augment_offset=True, augment_scale=False, augment_rotate=False, augment_noise=False, tb_prefix='p2ch12', comment='offset')\n",
      "2024-10-18 18:29:39,305 INFO     pid:21660 p2ch12.dsets:266:__init__ <p2ch12.dsets.LunaDataset object at 0x000001B77AFA4B50>: 346356 training samples, 345485 neg, 871 pos, 1:1 ratio\n",
      "2024-10-18 18:29:39,328 INFO     pid:21660 p2ch12.dsets:266:__init__ <p2ch12.dsets.LunaDataset object at 0x000001B77AFA42E0>: 38484 validation samples, 38387 neg, 97 pos, unbalanced ratio\n",
      "2024-10-18 18:29:39,329 INFO     pid:21660 p2ch12.training:195:main Epoch 1 of 2, 6250/1203 batches of size 32*1\n",
      "2024-10-18 18:29:39,434 WARNING  pid:21660 util.util:219:enumerateWithEstimate E1 Training ----/6250, starting\n",
      "2024-10-18 18:29:50,762 INFO     pid:21660 util.util:236:enumerateWithEstimate E1 Training   16/6250, done at 2024-10-18 18:33:53, 0:04:03\n",
      "2024-10-18 18:29:52,804 INFO     pid:21660 util.util:236:enumerateWithEstimate E1 Training   64/6250, done at 2024-10-18 18:34:11, 0:04:20\n",
      "2024-10-18 18:30:00,961 INFO     pid:21660 util.util:236:enumerateWithEstimate E1 Training  256/6250, done at 2024-10-18 18:34:14, 0:04:24\n",
      "2024-10-18 18:30:33,738 INFO     pid:21660 util.util:236:enumerateWithEstimate E1 Training 1024/6250, done at 2024-10-18 18:34:16, 0:04:26\n",
      "2024-10-18 18:32:45,935 INFO     pid:21660 util.util:236:enumerateWithEstimate E1 Training 4096/6250, done at 2024-10-18 18:34:18, 0:04:28\n",
      "2024-10-18 18:34:19,152 WARNING  pid:21660 util.util:249:enumerateWithEstimate E1 Training ----/6250, done at 2024-10-18 18:34:19\n",
      "2024-10-18 18:34:19,156 INFO     pid:21660 p2ch12.training:304:logMetrics E1 LunaTrainingApp\n",
      "2024-10-18 18:34:19,160 INFO     pid:21660 p2ch12.training:341:logMetrics E1 trn      0.2609 loss,  89.5% correct, 0.9217 precision, 0.8644 recall, 0.8921 f1 score\n",
      "2024-10-18 18:34:19,161 INFO     pid:21660 p2ch12.training:353:logMetrics E1 trn_neg  0.2371 loss,  92.7% correct (92657 of 100000)\n",
      "2024-10-18 18:34:19,161 INFO     pid:21660 p2ch12.training:364:logMetrics E1 trn_pos  0.2847 loss,  86.4% correct (86437 of 100000)\n",
      "2024-10-18 18:34:19,180 WARNING  pid:21660 util.util:219:enumerateWithEstimate E1 Validation  ----/1203, starting\n",
      "2024-10-18 18:34:27,587 INFO     pid:21660 util.util:236:enumerateWithEstimate E1 Validation    16/1203, done at 2024-10-18 18:35:09, 0:00:42\n",
      "2024-10-18 18:34:29,438 INFO     pid:21660 util.util:236:enumerateWithEstimate E1 Validation    64/1203, done at 2024-10-18 18:35:12, 0:00:45\n",
      "2024-10-18 18:34:36,909 INFO     pid:21660 util.util:236:enumerateWithEstimate E1 Validation   256/1203, done at 2024-10-18 18:35:13, 0:00:46\n",
      "2024-10-18 18:35:07,014 INFO     pid:21660 util.util:236:enumerateWithEstimate E1 Validation  1024/1203, done at 2024-10-18 18:35:13, 0:00:46\n",
      "2024-10-18 18:35:14,524 WARNING  pid:21660 util.util:249:enumerateWithEstimate E1 Validation  ----/1203, done at 2024-10-18 18:35:14\n",
      "2024-10-18 18:35:14,525 INFO     pid:21660 p2ch12.training:304:logMetrics E1 LunaTrainingApp\n",
      "2024-10-18 18:35:14,526 INFO     pid:21660 p2ch12.training:341:logMetrics E1 val      0.0923 loss,  97.6% correct, 0.0883 precision, 0.8969 recall, 0.1608 f1 score\n",
      "2024-10-18 18:35:14,527 INFO     pid:21660 p2ch12.training:353:logMetrics E1 val_neg  0.0918 loss,  97.7% correct (37489 of 38387)\n",
      "2024-10-18 18:35:14,527 INFO     pid:21660 p2ch12.training:364:logMetrics E1 val_pos  0.3101 loss,  89.7% correct (87 of 97)\n",
      "2024-10-18 18:35:14,533 INFO     pid:21660 p2ch12.training:195:main Epoch 2 of 2, 6250/1203 batches of size 32*1\n",
      "2024-10-18 18:35:14,640 WARNING  pid:21660 util.util:219:enumerateWithEstimate E2 Training ----/6250, starting\n",
      "2024-10-18 18:35:25,678 INFO     pid:21660 util.util:236:enumerateWithEstimate E2 Training   16/6250, done at 2024-10-18 18:39:27, 0:04:02\n",
      "2024-10-18 18:35:27,684 INFO     pid:21660 util.util:236:enumerateWithEstimate E2 Training   64/6250, done at 2024-10-18 18:39:42, 0:04:17\n",
      "2024-10-18 18:35:35,568 INFO     pid:21660 util.util:236:enumerateWithEstimate E2 Training  256/6250, done at 2024-10-18 18:39:41, 0:04:16\n",
      "2024-10-18 18:36:07,240 INFO     pid:21660 util.util:236:enumerateWithEstimate E2 Training 1024/6250, done at 2024-10-18 18:39:42, 0:04:17\n",
      "2024-10-18 18:38:17,253 INFO     pid:21660 util.util:236:enumerateWithEstimate E2 Training 4096/6250, done at 2024-10-18 18:39:47, 0:04:22\n",
      "2024-10-18 18:39:50,955 WARNING  pid:21660 util.util:249:enumerateWithEstimate E2 Training ----/6250, done at 2024-10-18 18:39:50\n",
      "2024-10-18 18:39:51,074 INFO     pid:21660 p2ch12.training:304:logMetrics E2 LunaTrainingApp\n",
      "2024-10-18 18:39:51,078 INFO     pid:21660 p2ch12.training:341:logMetrics E2 trn      0.1257 loss,  95.8% correct, 0.9673 precision, 0.9475 recall, 0.9573 f1 score\n",
      "2024-10-18 18:39:51,078 INFO     pid:21660 p2ch12.training:353:logMetrics E2 trn_neg  0.1243 loss,  96.8% correct (96799 of 100000)\n",
      "2024-10-18 18:39:51,079 INFO     pid:21660 p2ch12.training:364:logMetrics E2 trn_pos  0.1270 loss,  94.8% correct (94753 of 100000)\n",
      "2024-10-18 18:39:51,096 WARNING  pid:21660 util.util:219:enumerateWithEstimate E2 Validation  ----/1203, starting\n",
      "2024-10-18 18:39:59,499 INFO     pid:21660 util.util:236:enumerateWithEstimate E2 Validation    16/1203, done at 2024-10-18 18:40:41, 0:00:42\n",
      "2024-10-18 18:40:01,385 INFO     pid:21660 util.util:236:enumerateWithEstimate E2 Validation    64/1203, done at 2024-10-18 18:40:45, 0:00:46\n",
      "2024-10-18 18:40:09,010 INFO     pid:21660 util.util:236:enumerateWithEstimate E2 Validation   256/1203, done at 2024-10-18 18:40:46, 0:00:47\n",
      "2024-10-18 18:40:39,314 INFO     pid:21660 util.util:236:enumerateWithEstimate E2 Validation  1024/1203, done at 2024-10-18 18:40:46, 0:00:47\n",
      "2024-10-18 18:40:46,661 WARNING  pid:21660 util.util:249:enumerateWithEstimate E2 Validation  ----/1203, done at 2024-10-18 18:40:46\n",
      "2024-10-18 18:40:46,662 INFO     pid:21660 p2ch12.training:304:logMetrics E2 LunaTrainingApp\n",
      "2024-10-18 18:40:46,663 INFO     pid:21660 p2ch12.training:341:logMetrics E2 val      0.0672 loss,  98.4% correct, 0.1259 precision, 0.9278 recall, 0.2217 f1 score\n",
      "2024-10-18 18:40:46,664 INFO     pid:21660 p2ch12.training:353:logMetrics E2 val_neg  0.0662 loss,  98.4% correct (37762 of 38387)\n",
      "2024-10-18 18:40:46,664 INFO     pid:21660 p2ch12.training:364:logMetrics E2 val_pos  0.4286 loss,  92.8% correct (90 of 97)\n",
      "2024-10-18 18:40:46,783 INFO     pid:21660 nb:009:run Finished: p2ch12.training.LunaTrainingApp.['--num-workers=4', '--epochs=2', '--balanced', '--augment-offset', 'offset']).main()\n"
     ]
    }
   ],
   "source": [
    "run('p2ch12.training.LunaTrainingApp', f'--epochs={experiment_epochs}', '--balanced', '--augment-offset', 'offset')"
   ]
  },
  {
   "cell_type": "code",
   "execution_count": 13,
   "metadata": {},
   "outputs": [
    {
     "name": "stderr",
     "output_type": "stream",
     "text": [
      "2024-10-18 18:40:46,792 INFO     pid:21660 nb:004:run Running: p2ch12.training.LunaTrainingApp(['--num-workers=4', '--epochs=2', '--balanced', '--augment-scale', 'scale']).main()\n",
      "2024-10-18 18:40:46,796 INFO     pid:21660 p2ch12.training:127:initModel Using CUDA; 1 devices.\n",
      "2024-10-18 18:40:46,797 INFO     pid:21660 p2ch12.training:188:main Starting LunaTrainingApp, Namespace(batch_size=32, num_workers=4, epochs=2, balanced=True, augmented=False, augment_flip=False, augment_offset=False, augment_scale=True, augment_rotate=False, augment_noise=False, tb_prefix='p2ch12', comment='scale')\n",
      "2024-10-18 18:40:46,958 INFO     pid:21660 p2ch12.dsets:266:__init__ <p2ch12.dsets.LunaDataset object at 0x000001B77AFA77F0>: 346356 training samples, 345485 neg, 871 pos, 1:1 ratio\n",
      "2024-10-18 18:40:46,975 INFO     pid:21660 p2ch12.dsets:266:__init__ <p2ch12.dsets.LunaDataset object at 0x000001B77AFA6E30>: 38484 validation samples, 38387 neg, 97 pos, unbalanced ratio\n",
      "2024-10-18 18:40:46,977 INFO     pid:21660 p2ch12.training:195:main Epoch 1 of 2, 6250/1203 batches of size 32*1\n",
      "2024-10-18 18:40:47,082 WARNING  pid:21660 util.util:219:enumerateWithEstimate E1 Training ----/6250, starting\n",
      "2024-10-18 18:40:58,279 INFO     pid:21660 util.util:236:enumerateWithEstimate E1 Training   16/6250, done at 2024-10-18 18:44:47, 0:03:49\n",
      "2024-10-18 18:41:00,241 INFO     pid:21660 util.util:236:enumerateWithEstimate E1 Training   64/6250, done at 2024-10-18 18:45:07, 0:04:09\n",
      "2024-10-18 18:41:08,243 INFO     pid:21660 util.util:236:enumerateWithEstimate E1 Training  256/6250, done at 2024-10-18 18:45:15, 0:04:17\n",
      "2024-10-18 18:41:40,028 INFO     pid:21660 util.util:236:enumerateWithEstimate E1 Training 1024/6250, done at 2024-10-18 18:45:16, 0:04:18\n",
      "2024-10-18 18:43:50,472 INFO     pid:21660 util.util:236:enumerateWithEstimate E1 Training 4096/6250, done at 2024-10-18 18:45:21, 0:04:23\n",
      "2024-10-18 18:45:24,051 WARNING  pid:21660 util.util:249:enumerateWithEstimate E1 Training ----/6250, done at 2024-10-18 18:45:24\n",
      "2024-10-18 18:45:24,055 INFO     pid:21660 p2ch12.training:304:logMetrics E1 LunaTrainingApp\n",
      "2024-10-18 18:45:24,058 INFO     pid:21660 p2ch12.training:341:logMetrics E1 trn      0.2263 loss,  91.2% correct, 0.9330 precision, 0.8876 recall, 0.9097 f1 score\n",
      "2024-10-18 18:45:24,059 INFO     pid:21660 p2ch12.training:353:logMetrics E1 trn_neg  0.2090 loss,  93.6% correct (93629 of 100000)\n",
      "2024-10-18 18:45:24,059 INFO     pid:21660 p2ch12.training:364:logMetrics E1 trn_pos  0.2436 loss,  88.8% correct (88759 of 100000)\n",
      "2024-10-18 18:45:24,077 WARNING  pid:21660 util.util:219:enumerateWithEstimate E1 Validation  ----/1203, starting\n",
      "2024-10-18 18:45:32,623 INFO     pid:21660 util.util:236:enumerateWithEstimate E1 Validation    16/1203, done at 2024-10-18 18:46:17, 0:00:45\n",
      "2024-10-18 18:45:34,643 INFO     pid:21660 util.util:236:enumerateWithEstimate E1 Validation    64/1203, done at 2024-10-18 18:46:21, 0:00:49\n",
      "2024-10-18 18:45:42,299 INFO     pid:21660 util.util:236:enumerateWithEstimate E1 Validation   256/1203, done at 2024-10-18 18:46:20, 0:00:48\n",
      "2024-10-18 18:46:12,291 INFO     pid:21660 util.util:236:enumerateWithEstimate E1 Validation  1024/1203, done at 2024-10-18 18:46:19, 0:00:47\n",
      "2024-10-18 18:46:19,454 WARNING  pid:21660 util.util:249:enumerateWithEstimate E1 Validation  ----/1203, done at 2024-10-18 18:46:19\n",
      "2024-10-18 18:46:19,455 INFO     pid:21660 p2ch12.training:304:logMetrics E1 LunaTrainingApp\n",
      "2024-10-18 18:46:19,456 INFO     pid:21660 p2ch12.training:341:logMetrics E1 val      0.1829 loss,  95.0% correct, 0.0450 precision, 0.9381 recall, 0.0858 f1 score\n",
      "2024-10-18 18:46:19,457 INFO     pid:21660 p2ch12.training:353:logMetrics E1 val_neg  0.1830 loss,  95.0% correct (36455 of 38387)\n",
      "2024-10-18 18:46:19,457 INFO     pid:21660 p2ch12.training:364:logMetrics E1 val_pos  0.1452 loss,  93.8% correct (91 of 97)\n",
      "2024-10-18 18:46:19,462 INFO     pid:21660 p2ch12.training:195:main Epoch 2 of 2, 6250/1203 batches of size 32*1\n",
      "2024-10-18 18:46:19,575 WARNING  pid:21660 util.util:219:enumerateWithEstimate E2 Training ----/6250, starting\n",
      "2024-10-18 18:46:30,538 INFO     pid:21660 util.util:236:enumerateWithEstimate E2 Training   16/6250, done at 2024-10-18 18:50:07, 0:03:37\n",
      "2024-10-18 18:46:32,571 INFO     pid:21660 util.util:236:enumerateWithEstimate E2 Training   64/6250, done at 2024-10-18 18:50:44, 0:04:14\n",
      "2024-10-18 18:46:40,630 INFO     pid:21660 util.util:236:enumerateWithEstimate E2 Training  256/6250, done at 2024-10-18 18:50:50, 0:04:20\n",
      "2024-10-18 18:47:12,598 INFO     pid:21660 util.util:236:enumerateWithEstimate E2 Training 1024/6250, done at 2024-10-18 18:50:50, 0:04:20\n",
      "2024-10-18 18:49:23,860 INFO     pid:21660 util.util:236:enumerateWithEstimate E2 Training 4096/6250, done at 2024-10-18 18:50:55, 0:04:25\n",
      "2024-10-18 18:50:57,737 WARNING  pid:21660 util.util:249:enumerateWithEstimate E2 Training ----/6250, done at 2024-10-18 18:50:57\n",
      "2024-10-18 18:50:57,830 INFO     pid:21660 p2ch12.training:304:logMetrics E2 LunaTrainingApp\n",
      "2024-10-18 18:50:57,834 INFO     pid:21660 p2ch12.training:341:logMetrics E2 trn      0.1311 loss,  95.6% correct, 0.9653 precision, 0.9457 recall, 0.9554 f1 score\n",
      "2024-10-18 18:50:57,835 INFO     pid:21660 p2ch12.training:353:logMetrics E2 trn_neg  0.1299 loss,  96.6% correct (96602 of 100000)\n",
      "2024-10-18 18:50:57,835 INFO     pid:21660 p2ch12.training:364:logMetrics E2 trn_pos  0.1323 loss,  94.6% correct (94572 of 100000)\n",
      "2024-10-18 18:50:57,852 WARNING  pid:21660 util.util:219:enumerateWithEstimate E2 Validation  ----/1203, starting\n",
      "2024-10-18 18:51:06,192 INFO     pid:21660 util.util:236:enumerateWithEstimate E2 Validation    16/1203, done at 2024-10-18 18:51:47, 0:00:41\n",
      "2024-10-18 18:51:08,112 INFO     pid:21660 util.util:236:enumerateWithEstimate E2 Validation    64/1203, done at 2024-10-18 18:51:52, 0:00:46\n",
      "2024-10-18 18:51:15,652 INFO     pid:21660 util.util:236:enumerateWithEstimate E2 Validation   256/1203, done at 2024-10-18 18:51:52, 0:00:46\n",
      "2024-10-18 18:51:45,990 INFO     pid:21660 util.util:236:enumerateWithEstimate E2 Validation  1024/1203, done at 2024-10-18 18:51:53, 0:00:47\n",
      "2024-10-18 18:51:53,392 WARNING  pid:21660 util.util:249:enumerateWithEstimate E2 Validation  ----/1203, done at 2024-10-18 18:51:53\n",
      "2024-10-18 18:51:53,393 INFO     pid:21660 p2ch12.training:304:logMetrics E2 LunaTrainingApp\n",
      "2024-10-18 18:51:53,395 INFO     pid:21660 p2ch12.training:341:logMetrics E2 val      0.1436 loss,  96.1% correct, 0.0555 precision, 0.9072 recall, 0.1046 f1 score\n",
      "2024-10-18 18:51:53,396 INFO     pid:21660 p2ch12.training:353:logMetrics E2 val_neg  0.1431 loss,  96.1% correct (36889 of 38387)\n",
      "2024-10-18 18:51:53,396 INFO     pid:21660 p2ch12.training:364:logMetrics E2 val_pos  0.3468 loss,  90.7% correct (88 of 97)\n",
      "2024-10-18 18:51:53,519 INFO     pid:21660 nb:009:run Finished: p2ch12.training.LunaTrainingApp.['--num-workers=4', '--epochs=2', '--balanced', '--augment-scale', 'scale']).main()\n"
     ]
    }
   ],
   "source": [
    "run('p2ch12.training.LunaTrainingApp', f'--epochs={experiment_epochs}', '--balanced', '--augment-scale', 'scale')"
   ]
  },
  {
   "cell_type": "code",
   "execution_count": 14,
   "metadata": {},
   "outputs": [
    {
     "name": "stderr",
     "output_type": "stream",
     "text": [
      "2024-10-18 18:51:53,537 INFO     pid:21660 nb:004:run Running: p2ch12.training.LunaTrainingApp(['--num-workers=4', '--epochs=2', '--balanced', '--augment-rotate', 'rotate']).main()\n",
      "2024-10-18 18:51:53,541 INFO     pid:21660 p2ch12.training:127:initModel Using CUDA; 1 devices.\n",
      "2024-10-18 18:51:53,542 INFO     pid:21660 p2ch12.training:188:main Starting LunaTrainingApp, Namespace(batch_size=32, num_workers=4, epochs=2, balanced=True, augmented=False, augment_flip=False, augment_offset=False, augment_scale=False, augment_rotate=True, augment_noise=False, tb_prefix='p2ch12', comment='rotate')\n",
      "2024-10-18 18:51:53,700 INFO     pid:21660 p2ch12.dsets:266:__init__ <p2ch12.dsets.LunaDataset object at 0x000001B76BCD2290>: 346356 training samples, 345485 neg, 871 pos, 1:1 ratio\n",
      "2024-10-18 18:51:53,718 INFO     pid:21660 p2ch12.dsets:266:__init__ <p2ch12.dsets.LunaDataset object at 0x000001B77AFA45E0>: 38484 validation samples, 38387 neg, 97 pos, unbalanced ratio\n",
      "2024-10-18 18:51:53,719 INFO     pid:21660 p2ch12.training:195:main Epoch 1 of 2, 6250/1203 batches of size 32*1\n",
      "2024-10-18 18:51:53,837 WARNING  pid:21660 util.util:219:enumerateWithEstimate E1 Training ----/6250, starting\n",
      "2024-10-18 18:52:04,882 INFO     pid:21660 util.util:236:enumerateWithEstimate E1 Training   16/6250, done at 2024-10-18 18:55:44, 0:03:39\n",
      "2024-10-18 18:52:06,932 INFO     pid:21660 util.util:236:enumerateWithEstimate E1 Training   64/6250, done at 2024-10-18 18:56:21, 0:04:16\n",
      "2024-10-18 18:52:14,959 INFO     pid:21660 util.util:236:enumerateWithEstimate E1 Training  256/6250, done at 2024-10-18 18:56:24, 0:04:20\n",
      "2024-10-18 18:52:47,136 INFO     pid:21660 util.util:236:enumerateWithEstimate E1 Training 1024/6250, done at 2024-10-18 18:56:25, 0:04:21\n",
      "2024-10-18 18:54:58,140 INFO     pid:21660 util.util:236:enumerateWithEstimate E1 Training 4096/6250, done at 2024-10-18 18:56:29, 0:04:25\n",
      "2024-10-18 18:56:32,186 WARNING  pid:21660 util.util:249:enumerateWithEstimate E1 Training ----/6250, done at 2024-10-18 18:56:32\n",
      "2024-10-18 18:56:32,189 INFO     pid:21660 p2ch12.training:304:logMetrics E1 LunaTrainingApp\n",
      "2024-10-18 18:56:32,193 INFO     pid:21660 p2ch12.training:341:logMetrics E1 trn      0.3775 loss,  83.7% correct, 0.8829 precision, 0.7781 recall, 0.8272 f1 score\n",
      "2024-10-18 18:56:32,194 INFO     pid:21660 p2ch12.training:353:logMetrics E1 trn_neg  0.3369 loss,  89.7% correct (89682 of 100000)\n",
      "2024-10-18 18:56:32,194 INFO     pid:21660 p2ch12.training:364:logMetrics E1 trn_pos  0.4180 loss,  77.8% correct (77812 of 100000)\n",
      "2024-10-18 18:56:32,215 WARNING  pid:21660 util.util:219:enumerateWithEstimate E1 Validation  ----/1203, starting\n",
      "2024-10-18 18:56:40,557 INFO     pid:21660 util.util:236:enumerateWithEstimate E1 Validation    16/1203, done at 2024-10-18 18:57:21, 0:00:40\n",
      "2024-10-18 18:56:42,476 INFO     pid:21660 util.util:236:enumerateWithEstimate E1 Validation    64/1203, done at 2024-10-18 18:57:26, 0:00:46\n",
      "2024-10-18 18:56:49,971 INFO     pid:21660 util.util:236:enumerateWithEstimate E1 Validation   256/1203, done at 2024-10-18 18:57:26, 0:00:46\n",
      "2024-10-18 18:57:20,261 INFO     pid:21660 util.util:236:enumerateWithEstimate E1 Validation  1024/1203, done at 2024-10-18 18:57:27, 0:00:47\n",
      "2024-10-18 18:57:27,652 WARNING  pid:21660 util.util:249:enumerateWithEstimate E1 Validation  ----/1203, done at 2024-10-18 18:57:27\n",
      "2024-10-18 18:57:27,653 INFO     pid:21660 p2ch12.training:304:logMetrics E1 LunaTrainingApp\n",
      "2024-10-18 18:57:27,654 INFO     pid:21660 p2ch12.training:341:logMetrics E1 val      0.2745 loss,  93.2% correct, 0.0308 precision, 0.8557 recall, 0.0595 f1 score\n",
      "2024-10-18 18:57:27,655 INFO     pid:21660 p2ch12.training:353:logMetrics E1 val_neg  0.2745 loss,  93.2% correct (35777 of 38387)\n",
      "2024-10-18 18:57:27,655 INFO     pid:21660 p2ch12.training:364:logMetrics E1 val_pos  0.2822 loss,  85.6% correct (83 of 97)\n",
      "2024-10-18 18:57:27,661 INFO     pid:21660 p2ch12.training:195:main Epoch 2 of 2, 6250/1203 batches of size 32*1\n",
      "2024-10-18 18:57:27,773 WARNING  pid:21660 util.util:219:enumerateWithEstimate E2 Training ----/6250, starting\n",
      "2024-10-18 18:57:38,650 INFO     pid:21660 util.util:236:enumerateWithEstimate E2 Training   16/6250, done at 2024-10-18 19:01:32, 0:03:54\n",
      "2024-10-18 18:57:40,642 INFO     pid:21660 util.util:236:enumerateWithEstimate E2 Training   64/6250, done at 2024-10-18 19:01:51, 0:04:13\n",
      "2024-10-18 18:57:48,736 INFO     pid:21660 util.util:236:enumerateWithEstimate E2 Training  256/6250, done at 2024-10-18 19:01:59, 0:04:21\n",
      "2024-10-18 18:58:20,658 INFO     pid:21660 util.util:236:enumerateWithEstimate E2 Training 1024/6250, done at 2024-10-18 19:01:58, 0:04:19\n",
      "2024-10-18 19:00:31,640 INFO     pid:21660 util.util:236:enumerateWithEstimate E2 Training 4096/6250, done at 2024-10-18 19:02:02, 0:04:24\n",
      "2024-10-18 19:02:05,218 WARNING  pid:21660 util.util:249:enumerateWithEstimate E2 Training ----/6250, done at 2024-10-18 19:02:05\n",
      "2024-10-18 19:02:05,313 INFO     pid:21660 p2ch12.training:304:logMetrics E2 LunaTrainingApp\n",
      "2024-10-18 19:02:05,317 INFO     pid:21660 p2ch12.training:341:logMetrics E2 trn      0.2370 loss,  91.2% correct, 0.9449 precision, 0.8750 recall, 0.9086 f1 score\n",
      "2024-10-18 19:02:05,317 INFO     pid:21660 p2ch12.training:353:logMetrics E2 trn_neg  0.2033 loss,  94.9% correct (94893 of 100000)\n",
      "2024-10-18 19:02:05,317 INFO     pid:21660 p2ch12.training:364:logMetrics E2 trn_pos  0.2708 loss,  87.5% correct (87499 of 100000)\n",
      "2024-10-18 19:02:05,337 WARNING  pid:21660 util.util:219:enumerateWithEstimate E2 Validation  ----/1203, starting\n",
      "2024-10-18 19:02:13,776 INFO     pid:21660 util.util:236:enumerateWithEstimate E2 Validation    16/1203, done at 2024-10-18 19:02:57, 0:00:44\n",
      "2024-10-18 19:02:15,786 INFO     pid:21660 util.util:236:enumerateWithEstimate E2 Validation    64/1203, done at 2024-10-18 19:03:02, 0:00:48\n",
      "2024-10-18 19:02:23,346 INFO     pid:21660 util.util:236:enumerateWithEstimate E2 Validation   256/1203, done at 2024-10-18 19:03:00, 0:00:47\n",
      "2024-10-18 19:02:51,833 INFO     pid:21660 util.util:236:enumerateWithEstimate E2 Validation  1024/1203, done at 2024-10-18 19:02:58, 0:00:45\n",
      "2024-10-18 19:02:58,764 WARNING  pid:21660 util.util:249:enumerateWithEstimate E2 Validation  ----/1203, done at 2024-10-18 19:02:58\n",
      "2024-10-18 19:02:58,765 INFO     pid:21660 p2ch12.training:304:logMetrics E2 LunaTrainingApp\n",
      "2024-10-18 19:02:58,767 INFO     pid:21660 p2ch12.training:341:logMetrics E2 val      0.1755 loss,  95.1% correct, 0.0445 precision, 0.9072 recall, 0.0849 f1 score\n",
      "2024-10-18 19:02:58,767 INFO     pid:21660 p2ch12.training:353:logMetrics E2 val_neg  0.1754 loss,  95.1% correct (36499 of 38387)\n",
      "2024-10-18 19:02:58,767 INFO     pid:21660 p2ch12.training:364:logMetrics E2 val_pos  0.2107 loss,  90.7% correct (88 of 97)\n",
      "2024-10-18 19:02:58,884 INFO     pid:21660 nb:009:run Finished: p2ch12.training.LunaTrainingApp.['--num-workers=4', '--epochs=2', '--balanced', '--augment-rotate', 'rotate']).main()\n"
     ]
    }
   ],
   "source": [
    "run('p2ch12.training.LunaTrainingApp', f'--epochs={experiment_epochs}', '--balanced', '--augment-rotate', 'rotate')"
   ]
  },
  {
   "cell_type": "code",
   "execution_count": 15,
   "metadata": {},
   "outputs": [
    {
     "name": "stderr",
     "output_type": "stream",
     "text": [
      "2024-10-18 19:02:58,895 INFO     pid:21660 nb:004:run Running: p2ch12.training.LunaTrainingApp(['--num-workers=4', '--epochs=2', '--balanced', '--augment-noise', 'noise']).main()\n",
      "2024-10-18 19:02:58,899 INFO     pid:21660 p2ch12.training:127:initModel Using CUDA; 1 devices.\n",
      "2024-10-18 19:02:58,900 INFO     pid:21660 p2ch12.training:188:main Starting LunaTrainingApp, Namespace(batch_size=32, num_workers=4, epochs=2, balanced=True, augmented=False, augment_flip=False, augment_offset=False, augment_scale=False, augment_rotate=False, augment_noise=True, tb_prefix='p2ch12', comment='noise')\n",
      "2024-10-18 19:02:59,044 INFO     pid:21660 p2ch12.dsets:266:__init__ <p2ch12.dsets.LunaDataset object at 0x000001B73A9659C0>: 346356 training samples, 345485 neg, 871 pos, 1:1 ratio\n",
      "2024-10-18 19:02:59,060 INFO     pid:21660 p2ch12.dsets:266:__init__ <p2ch12.dsets.LunaDataset object at 0x000001B77AFA4970>: 38484 validation samples, 38387 neg, 97 pos, unbalanced ratio\n",
      "2024-10-18 19:02:59,061 INFO     pid:21660 p2ch12.training:195:main Epoch 1 of 2, 6250/1203 batches of size 32*1\n",
      "2024-10-18 19:02:59,158 WARNING  pid:21660 util.util:219:enumerateWithEstimate E1 Training ----/6250, starting\n",
      "2024-10-18 19:03:09,499 INFO     pid:21660 util.util:236:enumerateWithEstimate E1 Training   16/6250, done at 2024-10-18 19:06:48, 0:03:39\n",
      "2024-10-18 19:03:11,507 INFO     pid:21660 util.util:236:enumerateWithEstimate E1 Training   64/6250, done at 2024-10-18 19:07:21, 0:04:12\n",
      "2024-10-18 19:03:19,487 INFO     pid:21660 util.util:236:enumerateWithEstimate E1 Training  256/6250, done at 2024-10-18 19:07:26, 0:04:17\n",
      "2024-10-18 19:03:51,641 INFO     pid:21660 util.util:236:enumerateWithEstimate E1 Training 1024/6250, done at 2024-10-18 19:07:29, 0:04:20\n",
      "2024-10-18 19:06:04,222 INFO     pid:21660 util.util:236:enumerateWithEstimate E1 Training 4096/6250, done at 2024-10-18 19:07:36, 0:04:27\n",
      "2024-10-18 19:07:38,518 WARNING  pid:21660 util.util:249:enumerateWithEstimate E1 Training ----/6250, done at 2024-10-18 19:07:38\n",
      "2024-10-18 19:07:38,522 INFO     pid:21660 p2ch12.training:304:logMetrics E1 LunaTrainingApp\n",
      "2024-10-18 19:07:38,525 INFO     pid:21660 p2ch12.training:341:logMetrics E1 trn      0.2441 loss,  89.5% correct, 0.9130 precision, 0.8726 recall, 0.8923 f1 score\n",
      "2024-10-18 19:07:38,526 INFO     pid:21660 p2ch12.training:353:logMetrics E1 trn_neg  0.2327 loss,  91.7% correct (91687 of 100000)\n",
      "2024-10-18 19:07:38,526 INFO     pid:21660 p2ch12.training:364:logMetrics E1 trn_pos  0.2555 loss,  87.3% correct (87257 of 100000)\n",
      "2024-10-18 19:07:38,544 WARNING  pid:21660 util.util:219:enumerateWithEstimate E1 Validation  ----/1203, starting\n",
      "2024-10-18 19:07:46,300 INFO     pid:21660 util.util:236:enumerateWithEstimate E1 Validation    16/1203, done at 2024-10-18 19:08:25, 0:00:39\n",
      "2024-10-18 19:07:48,012 INFO     pid:21660 util.util:236:enumerateWithEstimate E1 Validation    64/1203, done at 2024-10-18 19:08:27, 0:00:42\n",
      "2024-10-18 19:07:54,975 INFO     pid:21660 util.util:236:enumerateWithEstimate E1 Validation   256/1203, done at 2024-10-18 19:08:29, 0:00:43\n",
      "2024-10-18 19:08:22,672 INFO     pid:21660 util.util:236:enumerateWithEstimate E1 Validation  1024/1203, done at 2024-10-18 19:08:29, 0:00:43\n",
      "2024-10-18 19:08:29,722 WARNING  pid:21660 util.util:249:enumerateWithEstimate E1 Validation  ----/1203, done at 2024-10-18 19:08:29\n",
      "2024-10-18 19:08:29,724 INFO     pid:21660 p2ch12.training:304:logMetrics E1 LunaTrainingApp\n",
      "2024-10-18 19:08:29,724 INFO     pid:21660 p2ch12.training:341:logMetrics E1 val      0.1206 loss,  96.6% correct, 0.0613 precision, 0.8660 recall, 0.1145 f1 score\n",
      "2024-10-18 19:08:29,725 INFO     pid:21660 p2ch12.training:353:logMetrics E1 val_neg  0.1198 loss,  96.6% correct (37101 of 38387)\n",
      "2024-10-18 19:08:29,725 INFO     pid:21660 p2ch12.training:364:logMetrics E1 val_pos  0.4420 loss,  86.6% correct (84 of 97)\n",
      "2024-10-18 19:08:29,731 INFO     pid:21660 p2ch12.training:195:main Epoch 2 of 2, 6250/1203 batches of size 32*1\n",
      "2024-10-18 19:08:29,834 WARNING  pid:21660 util.util:219:enumerateWithEstimate E2 Training ----/6250, starting\n",
      "2024-10-18 19:08:40,326 INFO     pid:21660 util.util:236:enumerateWithEstimate E2 Training   16/6250, done at 2024-10-18 19:12:32, 0:03:52\n",
      "2024-10-18 19:08:42,365 INFO     pid:21660 util.util:236:enumerateWithEstimate E2 Training   64/6250, done at 2024-10-18 19:12:58, 0:04:18\n",
      "2024-10-18 19:08:50,548 INFO     pid:21660 util.util:236:enumerateWithEstimate E2 Training  256/6250, done at 2024-10-18 19:13:04, 0:04:24\n",
      "2024-10-18 19:09:22,720 INFO     pid:21660 util.util:236:enumerateWithEstimate E2 Training 1024/6250, done at 2024-10-18 19:13:02, 0:04:22\n",
      "2024-10-18 19:11:35,523 INFO     pid:21660 util.util:236:enumerateWithEstimate E2 Training 4096/6250, done at 2024-10-18 19:13:07, 0:04:28\n",
      "2024-10-18 19:13:15,108 WARNING  pid:21660 util.util:249:enumerateWithEstimate E2 Training ----/6250, done at 2024-10-18 19:13:15\n",
      "2024-10-18 19:13:15,203 INFO     pid:21660 p2ch12.training:304:logMetrics E2 LunaTrainingApp\n",
      "2024-10-18 19:13:15,206 INFO     pid:21660 p2ch12.training:341:logMetrics E2 trn      0.1050 loss,  96.6% correct, 0.9714 precision, 0.9608 recall, 0.9661 f1 score\n",
      "2024-10-18 19:13:15,207 INFO     pid:21660 p2ch12.training:353:logMetrics E2 trn_neg  0.1107 loss,  97.2% correct (97173 of 100000)\n",
      "2024-10-18 19:13:15,208 INFO     pid:21660 p2ch12.training:364:logMetrics E2 trn_pos  0.0993 loss,  96.1% correct (96077 of 100000)\n",
      "2024-10-18 19:13:15,224 WARNING  pid:21660 util.util:219:enumerateWithEstimate E2 Validation  ----/1203, starting\n",
      "2024-10-18 19:13:23,633 INFO     pid:21660 util.util:236:enumerateWithEstimate E2 Validation    16/1203, done at 2024-10-18 19:14:04, 0:00:41\n",
      "2024-10-18 19:13:25,605 INFO     pid:21660 util.util:236:enumerateWithEstimate E2 Validation    64/1203, done at 2024-10-18 19:14:10, 0:00:47\n",
      "2024-10-18 19:13:32,892 INFO     pid:21660 util.util:236:enumerateWithEstimate E2 Validation   256/1203, done at 2024-10-18 19:14:09, 0:00:46\n",
      "2024-10-18 19:14:02,647 INFO     pid:21660 util.util:236:enumerateWithEstimate E2 Validation  1024/1203, done at 2024-10-18 19:14:09, 0:00:46\n",
      "2024-10-18 19:14:10,025 WARNING  pid:21660 util.util:249:enumerateWithEstimate E2 Validation  ----/1203, done at 2024-10-18 19:14:10\n",
      "2024-10-18 19:14:10,027 INFO     pid:21660 p2ch12.training:304:logMetrics E2 LunaTrainingApp\n",
      "2024-10-18 19:14:10,028 INFO     pid:21660 p2ch12.training:341:logMetrics E2 val      0.0685 loss,  98.5% correct, 0.1322 precision, 0.8763 recall, 0.2297 f1 score\n",
      "2024-10-18 19:14:10,029 INFO     pid:21660 p2ch12.training:353:logMetrics E2 val_neg  0.0664 loss,  98.5% correct (37829 of 38387)\n",
      "2024-10-18 19:14:10,029 INFO     pid:21660 p2ch12.training:364:logMetrics E2 val_pos  0.8689 loss,  87.6% correct (85 of 97)\n",
      "2024-10-18 19:14:10,145 INFO     pid:21660 nb:009:run Finished: p2ch12.training.LunaTrainingApp.['--num-workers=4', '--epochs=2', '--balanced', '--augment-noise', 'noise']).main()\n"
     ]
    }
   ],
   "source": [
    "run('p2ch12.training.LunaTrainingApp', f'--epochs={experiment_epochs}', '--balanced', '--augment-noise', 'noise')"
   ]
  },
  {
   "cell_type": "code",
   "execution_count": 16,
   "metadata": {},
   "outputs": [
    {
     "name": "stderr",
     "output_type": "stream",
     "text": [
      "2024-10-18 19:14:10,157 INFO     pid:21660 nb:004:run Running: p2ch12.training.LunaTrainingApp(['--num-workers=4', '--epochs=2', '--balanced', '--augmented', 'fully-augmented']).main()\n",
      "2024-10-18 19:14:10,161 INFO     pid:21660 p2ch12.training:127:initModel Using CUDA; 1 devices.\n",
      "2024-10-18 19:14:10,162 INFO     pid:21660 p2ch12.training:188:main Starting LunaTrainingApp, Namespace(batch_size=32, num_workers=4, epochs=2, balanced=True, augmented=True, augment_flip=False, augment_offset=False, augment_scale=False, augment_rotate=False, augment_noise=False, tb_prefix='p2ch12', comment='fully-augmented')\n",
      "2024-10-18 19:14:10,327 INFO     pid:21660 p2ch12.dsets:266:__init__ <p2ch12.dsets.LunaDataset object at 0x000001B76BCD2290>: 346356 training samples, 345485 neg, 871 pos, 1:1 ratio\n",
      "2024-10-18 19:14:10,346 INFO     pid:21660 p2ch12.dsets:266:__init__ <p2ch12.dsets.LunaDataset object at 0x000001B77AFA5C60>: 38484 validation samples, 38387 neg, 97 pos, unbalanced ratio\n",
      "2024-10-18 19:14:10,347 INFO     pid:21660 p2ch12.training:195:main Epoch 1 of 2, 6250/1203 batches of size 32*1\n",
      "2024-10-18 19:14:10,458 WARNING  pid:21660 util.util:219:enumerateWithEstimate E1 Training ----/6250, starting\n",
      "2024-10-18 19:14:21,572 INFO     pid:21660 util.util:236:enumerateWithEstimate E1 Training   16/6250, done at 2024-10-18 19:18:41, 0:04:19\n",
      "2024-10-18 19:14:23,698 INFO     pid:21660 util.util:236:enumerateWithEstimate E1 Training   64/6250, done at 2024-10-18 19:18:54, 0:04:33\n",
      "2024-10-18 19:14:32,144 INFO     pid:21660 util.util:236:enumerateWithEstimate E1 Training  256/6250, done at 2024-10-18 19:18:55, 0:04:34\n",
      "2024-10-18 19:15:06,542 INFO     pid:21660 util.util:236:enumerateWithEstimate E1 Training 1024/6250, done at 2024-10-18 19:18:59, 0:04:38\n",
      "2024-10-18 19:17:26,357 INFO     pid:21660 util.util:236:enumerateWithEstimate E1 Training 4096/6250, done at 2024-10-18 19:19:03, 0:04:42\n",
      "2024-10-18 19:19:06,509 WARNING  pid:21660 util.util:249:enumerateWithEstimate E1 Training ----/6250, done at 2024-10-18 19:19:06\n",
      "2024-10-18 19:19:06,513 INFO     pid:21660 p2ch12.training:304:logMetrics E1 LunaTrainingApp\n",
      "2024-10-18 19:19:06,516 INFO     pid:21660 p2ch12.training:341:logMetrics E1 trn      0.6938 loss,  50.0% correct, 0.5000 precision, 0.5004 recall, 0.5002 f1 score\n",
      "2024-10-18 19:19:06,517 INFO     pid:21660 p2ch12.training:353:logMetrics E1 trn_neg  0.6941 loss,  50.0% correct (49953 of 100000)\n",
      "2024-10-18 19:19:06,517 INFO     pid:21660 p2ch12.training:364:logMetrics E1 trn_pos  0.6935 loss,  50.0% correct (50040 of 100000)\n",
      "2024-10-18 19:19:06,533 WARNING  pid:21660 util.util:219:enumerateWithEstimate E1 Validation  ----/1203, starting\n",
      "2024-10-18 19:19:14,849 INFO     pid:21660 util.util:236:enumerateWithEstimate E1 Validation    16/1203, done at 2024-10-18 19:19:56, 0:00:42\n",
      "2024-10-18 19:19:16,647 INFO     pid:21660 util.util:236:enumerateWithEstimate E1 Validation    64/1203, done at 2024-10-18 19:19:58, 0:00:44\n",
      "2024-10-18 19:19:24,052 INFO     pid:21660 util.util:236:enumerateWithEstimate E1 Validation   256/1203, done at 2024-10-18 19:20:00, 0:00:45\n",
      "2024-10-18 19:19:53,888 INFO     pid:21660 util.util:236:enumerateWithEstimate E1 Validation  1024/1203, done at 2024-10-18 19:20:00, 0:00:46\n",
      "2024-10-18 19:20:01,225 WARNING  pid:21660 util.util:249:enumerateWithEstimate E1 Validation  ----/1203, done at 2024-10-18 19:20:01\n",
      "2024-10-18 19:20:01,225 INFO     pid:21660 p2ch12.training:304:logMetrics E1 LunaTrainingApp\n",
      "2024-10-18 19:20:01,227 INFO     pid:21660 p2ch12.training:341:logMetrics E1 val      0.6936 loss,   0.3% correct, 0.0025 precision, 1.0000 recall, 0.0050 f1 score\n",
      "2024-10-18 19:20:01,227 INFO     pid:21660 p2ch12.training:353:logMetrics E1 val_neg  0.6936 loss,   0.0% correct (0 of 38387)\n",
      "2024-10-18 19:20:01,227 INFO     pid:21660 p2ch12.training:364:logMetrics E1 val_pos  0.6927 loss, 100.0% correct (97 of 97)\n",
      "2024-10-18 19:20:01,233 INFO     pid:21660 p2ch12.training:195:main Epoch 2 of 2, 6250/1203 batches of size 32*1\n",
      "2024-10-18 19:20:01,341 WARNING  pid:21660 util.util:219:enumerateWithEstimate E2 Training ----/6250, starting\n",
      "2024-10-18 19:20:12,275 INFO     pid:21660 util.util:236:enumerateWithEstimate E2 Training   16/6250, done at 2024-10-18 19:24:29, 0:04:17\n",
      "2024-10-18 19:20:14,430 INFO     pid:21660 util.util:236:enumerateWithEstimate E2 Training   64/6250, done at 2024-10-18 19:24:47, 0:04:35\n",
      "2024-10-18 19:20:22,898 INFO     pid:21660 util.util:236:enumerateWithEstimate E2 Training  256/6250, done at 2024-10-18 19:24:47, 0:04:35\n",
      "2024-10-18 19:20:56,997 INFO     pid:21660 util.util:236:enumerateWithEstimate E2 Training 1024/6250, done at 2024-10-18 19:24:48, 0:04:36\n",
      "2024-10-18 19:23:17,098 INFO     pid:21660 util.util:236:enumerateWithEstimate E2 Training 4096/6250, done at 2024-10-18 19:24:54, 0:04:42\n",
      "2024-10-18 19:24:57,014 WARNING  pid:21660 util.util:249:enumerateWithEstimate E2 Training ----/6250, done at 2024-10-18 19:24:57\n",
      "2024-10-18 19:24:57,128 INFO     pid:21660 p2ch12.training:304:logMetrics E2 LunaTrainingApp\n",
      "2024-10-18 19:24:57,132 INFO     pid:21660 p2ch12.training:341:logMetrics E2 trn      0.6931 loss,  50.0% correct, 0.5000 precision, 0.5006 recall, 0.5003 f1 score\n",
      "2024-10-18 19:24:57,133 INFO     pid:21660 p2ch12.training:353:logMetrics E2 trn_neg  0.6931 loss,  49.9% correct (49936 of 100000)\n",
      "2024-10-18 19:24:57,133 INFO     pid:21660 p2ch12.training:364:logMetrics E2 trn_pos  0.6931 loss,  50.1% correct (50064 of 100000)\n",
      "2024-10-18 19:24:57,149 WARNING  pid:21660 util.util:219:enumerateWithEstimate E2 Validation  ----/1203, starting\n",
      "2024-10-18 19:25:05,512 INFO     pid:21660 util.util:236:enumerateWithEstimate E2 Validation    16/1203, done at 2024-10-18 19:25:47, 0:00:42\n",
      "2024-10-18 19:25:07,369 INFO     pid:21660 util.util:236:enumerateWithEstimate E2 Validation    64/1203, done at 2024-10-18 19:25:50, 0:00:45\n",
      "2024-10-18 19:25:15,108 INFO     pid:21660 util.util:236:enumerateWithEstimate E2 Validation   256/1203, done at 2024-10-18 19:25:52, 0:00:47\n",
      "2024-10-18 19:25:44,942 INFO     pid:21660 util.util:236:enumerateWithEstimate E2 Validation  1024/1203, done at 2024-10-18 19:25:51, 0:00:46\n",
      "2024-10-18 19:25:52,287 WARNING  pid:21660 util.util:249:enumerateWithEstimate E2 Validation  ----/1203, done at 2024-10-18 19:25:52\n",
      "2024-10-18 19:25:52,288 INFO     pid:21660 p2ch12.training:304:logMetrics E2 LunaTrainingApp\n",
      "2024-10-18 19:25:52,290 INFO     pid:21660 p2ch12.training:341:logMetrics E2 val      0.6931 loss,  99.7% correct, nan precision, 0.0000 recall, nan f1 score\n",
      "2024-10-18 19:25:52,291 INFO     pid:21660 p2ch12.training:353:logMetrics E2 val_neg  0.6931 loss, 100.0% correct (38387 of 38387)\n",
      "2024-10-18 19:25:52,291 INFO     pid:21660 p2ch12.training:364:logMetrics E2 val_pos  0.6932 loss,   0.0% correct (0 of 97)\n",
      "2024-10-18 19:25:52,406 INFO     pid:21660 nb:009:run Finished: p2ch12.training.LunaTrainingApp.['--num-workers=4', '--epochs=2', '--balanced', '--augmented', 'fully-augmented']).main()\n"
     ]
    }
   ],
   "source": [
    "run('p2ch12.training.LunaTrainingApp', f'--epochs={training_epochs}', '--balanced', '--augmented', 'fully-augmented')"
   ]
  },
  {
   "cell_type": "markdown",
   "metadata": {},
   "source": [
    "## Chapter 13"
   ]
  },
  {
   "cell_type": "code",
   "execution_count": 20,
   "metadata": {},
   "outputs": [
    {
     "name": "stderr",
     "output_type": "stream",
     "text": [
      "2024-10-18 20:34:00,117 INFO     pid:21660 nb:004:run Running: p2ch13.prepcache.LunaPrepCacheApp(['--num-workers=4']).main()\n",
      "2024-10-18 20:34:00,118 INFO     pid:21660 p2ch13.prepcache:048:main Starting LunaPrepCacheApp, Namespace(batch_size=1024, num_workers=4)\n",
      "2024-10-18 20:34:00,172 WARNING  pid:21660 util.util:219:enumerateWithEstimate Stuffing cache ----/377, starting\n"
     ]
    },
    {
     "ename": "IndexError",
     "evalue": "Caught IndexError in DataLoader worker process 0.\nOriginal Traceback (most recent call last):\n  File \"c:\\Users\\soria\\AppData\\Local\\Programs\\Python\\Python310\\lib\\site-packages\\torch\\utils\\data\\_utils\\worker.py\", line 309, in _worker_loop\n    data = fetcher.fetch(index)  # type: ignore[possibly-undefined]\n  File \"c:\\Users\\soria\\AppData\\Local\\Programs\\Python\\Python310\\lib\\site-packages\\torch\\utils\\data\\_utils\\fetch.py\", line 52, in fetch\n    data = [self.dataset[idx] for idx in possibly_batched_index]\n  File \"c:\\Users\\soria\\AppData\\Local\\Programs\\Python\\Python310\\lib\\site-packages\\torch\\utils\\data\\_utils\\fetch.py\", line 52, in <listcomp>\n    data = [self.dataset[idx] for idx in possibly_batched_index]\n  File \"c:\\lung cancer\\dlwpt-code\\p2ch13\\dsets.py\", line 360, in __getitem__\n    getCtRawCandidate(candidateInfo_tup.series_uid, candidateInfo_tup.center_xyz, (7, 96, 96))\n  File \"c:\\Users\\soria\\AppData\\Local\\Programs\\Python\\Python310\\lib\\site-packages\\diskcache\\core.py\", line 1888, in wrapper\n    result = func(*args, **kwargs)\n  File \"c:\\lung cancer\\dlwpt-code\\p2ch13\\dsets.py\", line 214, in getCtRawCandidate\n    ct = getCt(series_uid)\n  File \"c:\\lung cancer\\dlwpt-code\\p2ch13\\dsets.py\", line 210, in getCt\n    return Ct(series_uid)\n  File \"c:\\lung cancer\\dlwpt-code\\p2ch13\\dsets.py\", line 100, in __init__\n    mhd_path = glob.glob(\nIndexError: list index out of range\n",
     "output_type": "error",
     "traceback": [
      "\u001b[1;31m---------------------------------------------------------------------------\u001b[0m",
      "\u001b[1;31mIndexError\u001b[0m                                Traceback (most recent call last)",
      "Cell \u001b[1;32mIn[20], line 1\u001b[0m\n\u001b[1;32m----> 1\u001b[0m \u001b[43mrun\u001b[49m\u001b[43m(\u001b[49m\u001b[38;5;124;43m'\u001b[39;49m\u001b[38;5;124;43mp2ch13.prepcache.LunaPrepCacheApp\u001b[39;49m\u001b[38;5;124;43m'\u001b[39;49m\u001b[43m)\u001b[49m\n",
      "Cell \u001b[1;32mIn[2], line 7\u001b[0m, in \u001b[0;36mrun\u001b[1;34m(app, *argv)\u001b[0m\n\u001b[0;32m      4\u001b[0m log\u001b[38;5;241m.\u001b[39minfo(\u001b[38;5;124m\"\u001b[39m\u001b[38;5;124mRunning: \u001b[39m\u001b[38;5;132;01m{}\u001b[39;00m\u001b[38;5;124m(\u001b[39m\u001b[38;5;132;01m{!r}\u001b[39;00m\u001b[38;5;124m).main()\u001b[39m\u001b[38;5;124m\"\u001b[39m\u001b[38;5;241m.\u001b[39mformat(app, argv))\n\u001b[0;32m      6\u001b[0m app_cls \u001b[38;5;241m=\u001b[39m importstr(\u001b[38;5;241m*\u001b[39mapp\u001b[38;5;241m.\u001b[39mrsplit(\u001b[38;5;124m'\u001b[39m\u001b[38;5;124m.\u001b[39m\u001b[38;5;124m'\u001b[39m, \u001b[38;5;241m1\u001b[39m))  \u001b[38;5;66;03m# <2>\u001b[39;00m\n\u001b[1;32m----> 7\u001b[0m \u001b[43mapp_cls\u001b[49m\u001b[43m(\u001b[49m\u001b[43margv\u001b[49m\u001b[43m)\u001b[49m\u001b[38;5;241;43m.\u001b[39;49m\u001b[43mmain\u001b[49m\u001b[43m(\u001b[49m\u001b[43m)\u001b[49m\n\u001b[0;32m      9\u001b[0m log\u001b[38;5;241m.\u001b[39minfo(\u001b[38;5;124m\"\u001b[39m\u001b[38;5;124mFinished: \u001b[39m\u001b[38;5;132;01m{}\u001b[39;00m\u001b[38;5;124m.\u001b[39m\u001b[38;5;132;01m{!r}\u001b[39;00m\u001b[38;5;124m).main()\u001b[39m\u001b[38;5;124m\"\u001b[39m\u001b[38;5;241m.\u001b[39mformat(app, argv))\n",
      "File \u001b[1;32mc:\\lung cancer\\dlwpt-code\\p2ch13\\prepcache.py:63\u001b[0m, in \u001b[0;36mLunaPrepCacheApp.main\u001b[1;34m(self)\u001b[0m\n\u001b[0;32m     50\u001b[0m \u001b[38;5;28mself\u001b[39m\u001b[38;5;241m.\u001b[39mprep_dl \u001b[38;5;241m=\u001b[39m DataLoader(\n\u001b[0;32m     51\u001b[0m     PrepcacheLunaDataset(\n\u001b[0;32m     52\u001b[0m         \u001b[38;5;66;03m# sortby_str='series_uid',\u001b[39;00m\n\u001b[1;32m   (...)\u001b[0m\n\u001b[0;32m     55\u001b[0m     num_workers\u001b[38;5;241m=\u001b[39m\u001b[38;5;28mself\u001b[39m\u001b[38;5;241m.\u001b[39mcli_args\u001b[38;5;241m.\u001b[39mnum_workers,\n\u001b[0;32m     56\u001b[0m )\n\u001b[0;32m     58\u001b[0m batch_iter \u001b[38;5;241m=\u001b[39m enumerateWithEstimate(\n\u001b[0;32m     59\u001b[0m     \u001b[38;5;28mself\u001b[39m\u001b[38;5;241m.\u001b[39mprep_dl,\n\u001b[0;32m     60\u001b[0m     \u001b[38;5;124m\"\u001b[39m\u001b[38;5;124mStuffing cache\u001b[39m\u001b[38;5;124m\"\u001b[39m,\n\u001b[0;32m     61\u001b[0m     start_ndx\u001b[38;5;241m=\u001b[39m\u001b[38;5;28mself\u001b[39m\u001b[38;5;241m.\u001b[39mprep_dl\u001b[38;5;241m.\u001b[39mnum_workers,\n\u001b[0;32m     62\u001b[0m )\n\u001b[1;32m---> 63\u001b[0m \u001b[38;5;28;01mfor\u001b[39;00m batch_ndx, batch_tup \u001b[38;5;129;01min\u001b[39;00m batch_iter:\n\u001b[0;32m     64\u001b[0m     \u001b[38;5;28;01mpass\u001b[39;00m\n",
      "File \u001b[1;32mc:\\lung cancer\\dlwpt-code\\util\\util.py:224\u001b[0m, in \u001b[0;36menumerateWithEstimate\u001b[1;34m(iter, desc_str, start_ndx, print_ndx, backoff, iter_len)\u001b[0m\n\u001b[0;32m    219\u001b[0m log\u001b[38;5;241m.\u001b[39mwarning(\u001b[38;5;124m\"\u001b[39m\u001b[38;5;132;01m{}\u001b[39;00m\u001b[38;5;124m ----/\u001b[39m\u001b[38;5;132;01m{}\u001b[39;00m\u001b[38;5;124m, starting\u001b[39m\u001b[38;5;124m\"\u001b[39m\u001b[38;5;241m.\u001b[39mformat(\n\u001b[0;32m    220\u001b[0m     desc_str,\n\u001b[0;32m    221\u001b[0m     iter_len,\n\u001b[0;32m    222\u001b[0m ))\n\u001b[0;32m    223\u001b[0m start_ts \u001b[38;5;241m=\u001b[39m time\u001b[38;5;241m.\u001b[39mtime()\n\u001b[1;32m--> 224\u001b[0m \u001b[38;5;28;01mfor\u001b[39;00m (current_ndx, item) \u001b[38;5;129;01min\u001b[39;00m \u001b[38;5;28menumerate\u001b[39m(\u001b[38;5;28miter\u001b[39m):\n\u001b[0;32m    225\u001b[0m     \u001b[38;5;28;01myield\u001b[39;00m (current_ndx, item)\n\u001b[0;32m    226\u001b[0m     \u001b[38;5;28;01mif\u001b[39;00m current_ndx \u001b[38;5;241m==\u001b[39m print_ndx:\n\u001b[0;32m    227\u001b[0m         \u001b[38;5;66;03m# ... <1>\u001b[39;00m\n",
      "File \u001b[1;32mc:\\Users\\soria\\AppData\\Local\\Programs\\Python\\Python310\\lib\\site-packages\\torch\\utils\\data\\dataloader.py:630\u001b[0m, in \u001b[0;36m_BaseDataLoaderIter.__next__\u001b[1;34m(self)\u001b[0m\n\u001b[0;32m    627\u001b[0m \u001b[38;5;28;01mif\u001b[39;00m \u001b[38;5;28mself\u001b[39m\u001b[38;5;241m.\u001b[39m_sampler_iter \u001b[38;5;129;01mis\u001b[39;00m \u001b[38;5;28;01mNone\u001b[39;00m:\n\u001b[0;32m    628\u001b[0m     \u001b[38;5;66;03m# TODO(https://github.com/pytorch/pytorch/issues/76750)\u001b[39;00m\n\u001b[0;32m    629\u001b[0m     \u001b[38;5;28mself\u001b[39m\u001b[38;5;241m.\u001b[39m_reset()  \u001b[38;5;66;03m# type: ignore[call-arg]\u001b[39;00m\n\u001b[1;32m--> 630\u001b[0m data \u001b[38;5;241m=\u001b[39m \u001b[38;5;28;43mself\u001b[39;49m\u001b[38;5;241;43m.\u001b[39;49m\u001b[43m_next_data\u001b[49m\u001b[43m(\u001b[49m\u001b[43m)\u001b[49m\n\u001b[0;32m    631\u001b[0m \u001b[38;5;28mself\u001b[39m\u001b[38;5;241m.\u001b[39m_num_yielded \u001b[38;5;241m+\u001b[39m\u001b[38;5;241m=\u001b[39m \u001b[38;5;241m1\u001b[39m\n\u001b[0;32m    632\u001b[0m \u001b[38;5;28;01mif\u001b[39;00m \u001b[38;5;28mself\u001b[39m\u001b[38;5;241m.\u001b[39m_dataset_kind \u001b[38;5;241m==\u001b[39m _DatasetKind\u001b[38;5;241m.\u001b[39mIterable \u001b[38;5;129;01mand\u001b[39;00m \\\n\u001b[0;32m    633\u001b[0m         \u001b[38;5;28mself\u001b[39m\u001b[38;5;241m.\u001b[39m_IterableDataset_len_called \u001b[38;5;129;01mis\u001b[39;00m \u001b[38;5;129;01mnot\u001b[39;00m \u001b[38;5;28;01mNone\u001b[39;00m \u001b[38;5;129;01mand\u001b[39;00m \\\n\u001b[0;32m    634\u001b[0m         \u001b[38;5;28mself\u001b[39m\u001b[38;5;241m.\u001b[39m_num_yielded \u001b[38;5;241m>\u001b[39m \u001b[38;5;28mself\u001b[39m\u001b[38;5;241m.\u001b[39m_IterableDataset_len_called:\n",
      "File \u001b[1;32mc:\\Users\\soria\\AppData\\Local\\Programs\\Python\\Python310\\lib\\site-packages\\torch\\utils\\data\\dataloader.py:1344\u001b[0m, in \u001b[0;36m_MultiProcessingDataLoaderIter._next_data\u001b[1;34m(self)\u001b[0m\n\u001b[0;32m   1342\u001b[0m \u001b[38;5;28;01melse\u001b[39;00m:\n\u001b[0;32m   1343\u001b[0m     \u001b[38;5;28;01mdel\u001b[39;00m \u001b[38;5;28mself\u001b[39m\u001b[38;5;241m.\u001b[39m_task_info[idx]\n\u001b[1;32m-> 1344\u001b[0m     \u001b[38;5;28;01mreturn\u001b[39;00m \u001b[38;5;28;43mself\u001b[39;49m\u001b[38;5;241;43m.\u001b[39;49m\u001b[43m_process_data\u001b[49m\u001b[43m(\u001b[49m\u001b[43mdata\u001b[49m\u001b[43m)\u001b[49m\n",
      "File \u001b[1;32mc:\\Users\\soria\\AppData\\Local\\Programs\\Python\\Python310\\lib\\site-packages\\torch\\utils\\data\\dataloader.py:1370\u001b[0m, in \u001b[0;36m_MultiProcessingDataLoaderIter._process_data\u001b[1;34m(self, data)\u001b[0m\n\u001b[0;32m   1368\u001b[0m \u001b[38;5;28mself\u001b[39m\u001b[38;5;241m.\u001b[39m_try_put_index()\n\u001b[0;32m   1369\u001b[0m \u001b[38;5;28;01mif\u001b[39;00m \u001b[38;5;28misinstance\u001b[39m(data, ExceptionWrapper):\n\u001b[1;32m-> 1370\u001b[0m     \u001b[43mdata\u001b[49m\u001b[38;5;241;43m.\u001b[39;49m\u001b[43mreraise\u001b[49m\u001b[43m(\u001b[49m\u001b[43m)\u001b[49m\n\u001b[0;32m   1371\u001b[0m \u001b[38;5;28;01mreturn\u001b[39;00m data\n",
      "File \u001b[1;32mc:\\Users\\soria\\AppData\\Local\\Programs\\Python\\Python310\\lib\\site-packages\\torch\\_utils.py:706\u001b[0m, in \u001b[0;36mExceptionWrapper.reraise\u001b[1;34m(self)\u001b[0m\n\u001b[0;32m    702\u001b[0m \u001b[38;5;28;01mexcept\u001b[39;00m \u001b[38;5;167;01mTypeError\u001b[39;00m:\n\u001b[0;32m    703\u001b[0m     \u001b[38;5;66;03m# If the exception takes multiple arguments, don't try to\u001b[39;00m\n\u001b[0;32m    704\u001b[0m     \u001b[38;5;66;03m# instantiate since we don't know how to\u001b[39;00m\n\u001b[0;32m    705\u001b[0m     \u001b[38;5;28;01mraise\u001b[39;00m \u001b[38;5;167;01mRuntimeError\u001b[39;00m(msg) \u001b[38;5;28;01mfrom\u001b[39;00m \u001b[38;5;28;01mNone\u001b[39;00m\n\u001b[1;32m--> 706\u001b[0m \u001b[38;5;28;01mraise\u001b[39;00m exception\n",
      "\u001b[1;31mIndexError\u001b[0m: Caught IndexError in DataLoader worker process 0.\nOriginal Traceback (most recent call last):\n  File \"c:\\Users\\soria\\AppData\\Local\\Programs\\Python\\Python310\\lib\\site-packages\\torch\\utils\\data\\_utils\\worker.py\", line 309, in _worker_loop\n    data = fetcher.fetch(index)  # type: ignore[possibly-undefined]\n  File \"c:\\Users\\soria\\AppData\\Local\\Programs\\Python\\Python310\\lib\\site-packages\\torch\\utils\\data\\_utils\\fetch.py\", line 52, in fetch\n    data = [self.dataset[idx] for idx in possibly_batched_index]\n  File \"c:\\Users\\soria\\AppData\\Local\\Programs\\Python\\Python310\\lib\\site-packages\\torch\\utils\\data\\_utils\\fetch.py\", line 52, in <listcomp>\n    data = [self.dataset[idx] for idx in possibly_batched_index]\n  File \"c:\\lung cancer\\dlwpt-code\\p2ch13\\dsets.py\", line 360, in __getitem__\n    getCtRawCandidate(candidateInfo_tup.series_uid, candidateInfo_tup.center_xyz, (7, 96, 96))\n  File \"c:\\Users\\soria\\AppData\\Local\\Programs\\Python\\Python310\\lib\\site-packages\\diskcache\\core.py\", line 1888, in wrapper\n    result = func(*args, **kwargs)\n  File \"c:\\lung cancer\\dlwpt-code\\p2ch13\\dsets.py\", line 214, in getCtRawCandidate\n    ct = getCt(series_uid)\n  File \"c:\\lung cancer\\dlwpt-code\\p2ch13\\dsets.py\", line 210, in getCt\n    return Ct(series_uid)\n  File \"c:\\lung cancer\\dlwpt-code\\p2ch13\\dsets.py\", line 100, in __init__\n    mhd_path = glob.glob(\nIndexError: list index out of range\n"
     ]
    }
   ],
   "source": [
    "run('p2ch13.prepcache.LunaPrepCacheApp')"
   ]
  },
  {
   "cell_type": "code",
   "execution_count": 18,
   "metadata": {},
   "outputs": [
    {
     "name": "stderr",
     "output_type": "stream",
     "text": [
      "2024-10-18 19:27:30,254 INFO     pid:21660 nb:004:run Running: p2ch13.training.LunaTrainingApp(['--num-workers=4', '--epochs=5', '--balanced', '--augmented', 'final-cls']).main()\n"
     ]
    },
    {
     "ename": "ImportError",
     "evalue": "p2ch13.training.LunaTrainingApp",
     "output_type": "error",
     "traceback": [
      "\u001b[1;31m---------------------------------------------------------------------------\u001b[0m",
      "\u001b[1;31mAttributeError\u001b[0m                            Traceback (most recent call last)",
      "File \u001b[1;32mc:\\lung cancer\\dlwpt-code\\util\\util.py:52\u001b[0m, in \u001b[0;36mimportstr\u001b[1;34m(module_str, from_)\u001b[0m\n\u001b[0;32m     51\u001b[0m \u001b[38;5;28;01mtry\u001b[39;00m:\n\u001b[1;32m---> 52\u001b[0m     \u001b[38;5;28;01mreturn\u001b[39;00m \u001b[38;5;28;43mgetattr\u001b[39;49m\u001b[43m(\u001b[49m\u001b[43mmodule\u001b[49m\u001b[43m,\u001b[49m\u001b[43m \u001b[49m\u001b[43mfrom_\u001b[49m\u001b[43m)\u001b[49m\n\u001b[0;32m     53\u001b[0m \u001b[38;5;28;01mexcept\u001b[39;00m:\n",
      "\u001b[1;31mAttributeError\u001b[0m: module 'p2ch13.training' has no attribute 'LunaTrainingApp'",
      "\nDuring handling of the above exception, another exception occurred:\n",
      "\u001b[1;31mImportError\u001b[0m                               Traceback (most recent call last)",
      "Cell \u001b[1;32mIn[18], line 1\u001b[0m\n\u001b[1;32m----> 1\u001b[0m \u001b[43mrun\u001b[49m\u001b[43m(\u001b[49m\u001b[38;5;124;43m'\u001b[39;49m\u001b[38;5;124;43mp2ch13.training.LunaTrainingApp\u001b[39;49m\u001b[38;5;124;43m'\u001b[39;49m\u001b[43m,\u001b[49m\u001b[43m \u001b[49m\u001b[38;5;124;43mf\u001b[39;49m\u001b[38;5;124;43m'\u001b[39;49m\u001b[38;5;124;43m--epochs=\u001b[39;49m\u001b[38;5;132;43;01m{\u001b[39;49;00m\u001b[43mfinal_epochs\u001b[49m\u001b[38;5;132;43;01m}\u001b[39;49;00m\u001b[38;5;124;43m'\u001b[39;49m\u001b[43m,\u001b[49m\u001b[43m \u001b[49m\u001b[38;5;124;43m'\u001b[39;49m\u001b[38;5;124;43m--balanced\u001b[39;49m\u001b[38;5;124;43m'\u001b[39;49m\u001b[43m,\u001b[49m\u001b[43m \u001b[49m\u001b[38;5;124;43m'\u001b[39;49m\u001b[38;5;124;43m--augmented\u001b[39;49m\u001b[38;5;124;43m'\u001b[39;49m\u001b[43m,\u001b[49m\u001b[43m \u001b[49m\u001b[38;5;124;43m'\u001b[39;49m\u001b[38;5;124;43mfinal-cls\u001b[39;49m\u001b[38;5;124;43m'\u001b[39;49m\u001b[43m)\u001b[49m\n",
      "Cell \u001b[1;32mIn[2], line 6\u001b[0m, in \u001b[0;36mrun\u001b[1;34m(app, *argv)\u001b[0m\n\u001b[0;32m      3\u001b[0m argv\u001b[38;5;241m.\u001b[39minsert(\u001b[38;5;241m0\u001b[39m, \u001b[38;5;124m'\u001b[39m\u001b[38;5;124m--num-workers=4\u001b[39m\u001b[38;5;124m'\u001b[39m)  \u001b[38;5;66;03m# <1>\u001b[39;00m\n\u001b[0;32m      4\u001b[0m log\u001b[38;5;241m.\u001b[39minfo(\u001b[38;5;124m\"\u001b[39m\u001b[38;5;124mRunning: \u001b[39m\u001b[38;5;132;01m{}\u001b[39;00m\u001b[38;5;124m(\u001b[39m\u001b[38;5;132;01m{!r}\u001b[39;00m\u001b[38;5;124m).main()\u001b[39m\u001b[38;5;124m\"\u001b[39m\u001b[38;5;241m.\u001b[39mformat(app, argv))\n\u001b[1;32m----> 6\u001b[0m app_cls \u001b[38;5;241m=\u001b[39m \u001b[43mimportstr\u001b[49m\u001b[43m(\u001b[49m\u001b[38;5;241;43m*\u001b[39;49m\u001b[43mapp\u001b[49m\u001b[38;5;241;43m.\u001b[39;49m\u001b[43mrsplit\u001b[49m\u001b[43m(\u001b[49m\u001b[38;5;124;43m'\u001b[39;49m\u001b[38;5;124;43m.\u001b[39;49m\u001b[38;5;124;43m'\u001b[39;49m\u001b[43m,\u001b[49m\u001b[43m \u001b[49m\u001b[38;5;241;43m1\u001b[39;49m\u001b[43m)\u001b[49m\u001b[43m)\u001b[49m  \u001b[38;5;66;03m# <2>\u001b[39;00m\n\u001b[0;32m      7\u001b[0m app_cls(argv)\u001b[38;5;241m.\u001b[39mmain()\n\u001b[0;32m      9\u001b[0m log\u001b[38;5;241m.\u001b[39minfo(\u001b[38;5;124m\"\u001b[39m\u001b[38;5;124mFinished: \u001b[39m\u001b[38;5;132;01m{}\u001b[39;00m\u001b[38;5;124m.\u001b[39m\u001b[38;5;132;01m{!r}\u001b[39;00m\u001b[38;5;124m).main()\u001b[39m\u001b[38;5;124m\"\u001b[39m\u001b[38;5;241m.\u001b[39mformat(app, argv))\n",
      "File \u001b[1;32mc:\\lung cancer\\dlwpt-code\\util\\util.py:54\u001b[0m, in \u001b[0;36mimportstr\u001b[1;34m(module_str, from_)\u001b[0m\n\u001b[0;32m     52\u001b[0m         \u001b[38;5;28;01mreturn\u001b[39;00m \u001b[38;5;28mgetattr\u001b[39m(module, from_)\n\u001b[0;32m     53\u001b[0m     \u001b[38;5;28;01mexcept\u001b[39;00m:\n\u001b[1;32m---> 54\u001b[0m         \u001b[38;5;28;01mraise\u001b[39;00m \u001b[38;5;167;01mImportError\u001b[39;00m(\u001b[38;5;124m'\u001b[39m\u001b[38;5;132;01m{}\u001b[39;00m\u001b[38;5;124m.\u001b[39m\u001b[38;5;132;01m{}\u001b[39;00m\u001b[38;5;124m'\u001b[39m\u001b[38;5;241m.\u001b[39mformat(module_str, from_))\n\u001b[0;32m     55\u001b[0m \u001b[38;5;28;01mreturn\u001b[39;00m module\n",
      "\u001b[1;31mImportError\u001b[0m: p2ch13.training.LunaTrainingApp"
     ]
    }
   ],
   "source": [
    "run('p2ch13.training.LunaTrainingApp', f'--epochs={final_epochs}', '--balanced', '--augmented', 'final-cls')"
   ]
  },
  {
   "cell_type": "code",
   "execution_count": null,
   "metadata": {
    "scrolled": true
   },
   "outputs": [],
   "source": [
    "run('p2ch13.train_seg.LunaTrainingApp', f'--epochs={seg_epochs}', '--augmented', 'final-seg')"
   ]
  },
  {
   "cell_type": "markdown",
   "metadata": {},
   "source": [
    "## Chapter 14"
   ]
  },
  {
   "cell_type": "code",
   "execution_count": 19,
   "metadata": {},
   "outputs": [
    {
     "name": "stderr",
     "output_type": "stream",
     "text": [
      "2024-10-18 19:27:34,898 INFO     pid:21660 nb:004:run Running: p2ch14.prepcache.LunaPrepCacheApp(['--num-workers=4']).main()\n",
      "2024-10-18 19:27:35,524 INFO     pid:21660 p2ch14.prepcache:048:main Starting LunaPrepCacheApp, Namespace(batch_size=1024, num_workers=4)\n",
      "2024-10-18 19:27:57,164 INFO     pid:21660 p2ch14.dsets:278:__init__ <p2ch14.dsets.LunaDataset object at 0x000001B76BCD2290>: 385054 training samples, 383872 neg, 1182 pos, unbalanced ratio\n",
      "2024-10-18 19:27:57,165 WARNING  pid:21660 util.util:219:enumerateWithEstimate Stuffing cache ----/377, starting\n"
     ]
    },
    {
     "ename": "IndexError",
     "evalue": "Caught IndexError in DataLoader worker process 0.\nOriginal Traceback (most recent call last):\n  File \"c:\\Users\\soria\\AppData\\Local\\Programs\\Python\\Python310\\lib\\site-packages\\torch\\utils\\data\\_utils\\worker.py\", line 309, in _worker_loop\n    data = fetcher.fetch(index)  # type: ignore[possibly-undefined]\n  File \"c:\\Users\\soria\\AppData\\Local\\Programs\\Python\\Python310\\lib\\site-packages\\torch\\utils\\data\\_utils\\fetch.py\", line 52, in fetch\n    data = [self.dataset[idx] for idx in possibly_batched_index]\n  File \"c:\\Users\\soria\\AppData\\Local\\Programs\\Python\\Python310\\lib\\site-packages\\torch\\utils\\data\\_utils\\fetch.py\", line 52, in <listcomp>\n    data = [self.dataset[idx] for idx in possibly_batched_index]\n  File \"c:\\lung cancer\\dlwpt-code\\p2ch14\\dsets.py\", line 315, in __getitem__\n    return self.sampleFromCandidateInfo_tup(\n  File \"c:\\lung cancer\\dlwpt-code\\p2ch14\\dsets.py\", line 331, in sampleFromCandidateInfo_tup\n    candidate_a, center_irc = getCtRawCandidate(\n  File \"c:\\Users\\soria\\AppData\\Local\\Programs\\Python\\Python310\\lib\\site-packages\\diskcache\\core.py\", line 1888, in wrapper\n    result = func(*args, **kwargs)\n  File \"c:\\lung cancer\\dlwpt-code\\p2ch14\\dsets.py\", line 148, in getCtRawCandidate\n    ct = getCt(series_uid)\n  File \"c:\\lung cancer\\dlwpt-code\\p2ch14\\dsets.py\", line 144, in getCt\n    return Ct(series_uid)\n  File \"c:\\lung cancer\\dlwpt-code\\p2ch14\\dsets.py\", line 93, in __init__\n    mhd_path = glob.glob(\nIndexError: list index out of range\n",
     "output_type": "error",
     "traceback": [
      "\u001b[1;31m---------------------------------------------------------------------------\u001b[0m",
      "\u001b[1;31mIndexError\u001b[0m                                Traceback (most recent call last)",
      "Cell \u001b[1;32mIn[19], line 1\u001b[0m\n\u001b[1;32m----> 1\u001b[0m \u001b[43mrun\u001b[49m\u001b[43m(\u001b[49m\u001b[38;5;124;43m'\u001b[39;49m\u001b[38;5;124;43mp2ch14.prepcache.LunaPrepCacheApp\u001b[39;49m\u001b[38;5;124;43m'\u001b[39;49m\u001b[43m)\u001b[49m\n",
      "Cell \u001b[1;32mIn[2], line 7\u001b[0m, in \u001b[0;36mrun\u001b[1;34m(app, *argv)\u001b[0m\n\u001b[0;32m      4\u001b[0m log\u001b[38;5;241m.\u001b[39minfo(\u001b[38;5;124m\"\u001b[39m\u001b[38;5;124mRunning: \u001b[39m\u001b[38;5;132;01m{}\u001b[39;00m\u001b[38;5;124m(\u001b[39m\u001b[38;5;132;01m{!r}\u001b[39;00m\u001b[38;5;124m).main()\u001b[39m\u001b[38;5;124m\"\u001b[39m\u001b[38;5;241m.\u001b[39mformat(app, argv))\n\u001b[0;32m      6\u001b[0m app_cls \u001b[38;5;241m=\u001b[39m importstr(\u001b[38;5;241m*\u001b[39mapp\u001b[38;5;241m.\u001b[39mrsplit(\u001b[38;5;124m'\u001b[39m\u001b[38;5;124m.\u001b[39m\u001b[38;5;124m'\u001b[39m, \u001b[38;5;241m1\u001b[39m))  \u001b[38;5;66;03m# <2>\u001b[39;00m\n\u001b[1;32m----> 7\u001b[0m \u001b[43mapp_cls\u001b[49m\u001b[43m(\u001b[49m\u001b[43margv\u001b[49m\u001b[43m)\u001b[49m\u001b[38;5;241;43m.\u001b[39;49m\u001b[43mmain\u001b[49m\u001b[43m(\u001b[49m\u001b[43m)\u001b[49m\n\u001b[0;32m      9\u001b[0m log\u001b[38;5;241m.\u001b[39minfo(\u001b[38;5;124m\"\u001b[39m\u001b[38;5;124mFinished: \u001b[39m\u001b[38;5;132;01m{}\u001b[39;00m\u001b[38;5;124m.\u001b[39m\u001b[38;5;132;01m{!r}\u001b[39;00m\u001b[38;5;124m).main()\u001b[39m\u001b[38;5;124m\"\u001b[39m\u001b[38;5;241m.\u001b[39mformat(app, argv))\n",
      "File \u001b[1;32mc:\\lung cancer\\dlwpt-code\\p2ch14\\prepcache.py:63\u001b[0m, in \u001b[0;36mLunaPrepCacheApp.main\u001b[1;34m(self)\u001b[0m\n\u001b[0;32m     50\u001b[0m \u001b[38;5;28mself\u001b[39m\u001b[38;5;241m.\u001b[39mprep_dl \u001b[38;5;241m=\u001b[39m DataLoader(\n\u001b[0;32m     51\u001b[0m     LunaDataset(\n\u001b[0;32m     52\u001b[0m         sortby_str\u001b[38;5;241m=\u001b[39m\u001b[38;5;124m'\u001b[39m\u001b[38;5;124mseries_uid\u001b[39m\u001b[38;5;124m'\u001b[39m,\n\u001b[1;32m   (...)\u001b[0m\n\u001b[0;32m     55\u001b[0m     num_workers\u001b[38;5;241m=\u001b[39m\u001b[38;5;28mself\u001b[39m\u001b[38;5;241m.\u001b[39mcli_args\u001b[38;5;241m.\u001b[39mnum_workers,\n\u001b[0;32m     56\u001b[0m )\n\u001b[0;32m     58\u001b[0m batch_iter \u001b[38;5;241m=\u001b[39m enumerateWithEstimate(\n\u001b[0;32m     59\u001b[0m     \u001b[38;5;28mself\u001b[39m\u001b[38;5;241m.\u001b[39mprep_dl,\n\u001b[0;32m     60\u001b[0m     \u001b[38;5;124m\"\u001b[39m\u001b[38;5;124mStuffing cache\u001b[39m\u001b[38;5;124m\"\u001b[39m,\n\u001b[0;32m     61\u001b[0m     start_ndx\u001b[38;5;241m=\u001b[39m\u001b[38;5;28mself\u001b[39m\u001b[38;5;241m.\u001b[39mprep_dl\u001b[38;5;241m.\u001b[39mnum_workers,\n\u001b[0;32m     62\u001b[0m )\n\u001b[1;32m---> 63\u001b[0m \u001b[38;5;28;01mfor\u001b[39;00m batch_ndx, batch_tup \u001b[38;5;129;01min\u001b[39;00m batch_iter:\n\u001b[0;32m     64\u001b[0m     \u001b[38;5;28;01mpass\u001b[39;00m\n",
      "File \u001b[1;32mc:\\lung cancer\\dlwpt-code\\util\\util.py:224\u001b[0m, in \u001b[0;36menumerateWithEstimate\u001b[1;34m(iter, desc_str, start_ndx, print_ndx, backoff, iter_len)\u001b[0m\n\u001b[0;32m    219\u001b[0m log\u001b[38;5;241m.\u001b[39mwarning(\u001b[38;5;124m\"\u001b[39m\u001b[38;5;132;01m{}\u001b[39;00m\u001b[38;5;124m ----/\u001b[39m\u001b[38;5;132;01m{}\u001b[39;00m\u001b[38;5;124m, starting\u001b[39m\u001b[38;5;124m\"\u001b[39m\u001b[38;5;241m.\u001b[39mformat(\n\u001b[0;32m    220\u001b[0m     desc_str,\n\u001b[0;32m    221\u001b[0m     iter_len,\n\u001b[0;32m    222\u001b[0m ))\n\u001b[0;32m    223\u001b[0m start_ts \u001b[38;5;241m=\u001b[39m time\u001b[38;5;241m.\u001b[39mtime()\n\u001b[1;32m--> 224\u001b[0m \u001b[38;5;28;01mfor\u001b[39;00m (current_ndx, item) \u001b[38;5;129;01min\u001b[39;00m \u001b[38;5;28menumerate\u001b[39m(\u001b[38;5;28miter\u001b[39m):\n\u001b[0;32m    225\u001b[0m     \u001b[38;5;28;01myield\u001b[39;00m (current_ndx, item)\n\u001b[0;32m    226\u001b[0m     \u001b[38;5;28;01mif\u001b[39;00m current_ndx \u001b[38;5;241m==\u001b[39m print_ndx:\n\u001b[0;32m    227\u001b[0m         \u001b[38;5;66;03m# ... <1>\u001b[39;00m\n",
      "File \u001b[1;32mc:\\Users\\soria\\AppData\\Local\\Programs\\Python\\Python310\\lib\\site-packages\\torch\\utils\\data\\dataloader.py:630\u001b[0m, in \u001b[0;36m_BaseDataLoaderIter.__next__\u001b[1;34m(self)\u001b[0m\n\u001b[0;32m    627\u001b[0m \u001b[38;5;28;01mif\u001b[39;00m \u001b[38;5;28mself\u001b[39m\u001b[38;5;241m.\u001b[39m_sampler_iter \u001b[38;5;129;01mis\u001b[39;00m \u001b[38;5;28;01mNone\u001b[39;00m:\n\u001b[0;32m    628\u001b[0m     \u001b[38;5;66;03m# TODO(https://github.com/pytorch/pytorch/issues/76750)\u001b[39;00m\n\u001b[0;32m    629\u001b[0m     \u001b[38;5;28mself\u001b[39m\u001b[38;5;241m.\u001b[39m_reset()  \u001b[38;5;66;03m# type: ignore[call-arg]\u001b[39;00m\n\u001b[1;32m--> 630\u001b[0m data \u001b[38;5;241m=\u001b[39m \u001b[38;5;28;43mself\u001b[39;49m\u001b[38;5;241;43m.\u001b[39;49m\u001b[43m_next_data\u001b[49m\u001b[43m(\u001b[49m\u001b[43m)\u001b[49m\n\u001b[0;32m    631\u001b[0m \u001b[38;5;28mself\u001b[39m\u001b[38;5;241m.\u001b[39m_num_yielded \u001b[38;5;241m+\u001b[39m\u001b[38;5;241m=\u001b[39m \u001b[38;5;241m1\u001b[39m\n\u001b[0;32m    632\u001b[0m \u001b[38;5;28;01mif\u001b[39;00m \u001b[38;5;28mself\u001b[39m\u001b[38;5;241m.\u001b[39m_dataset_kind \u001b[38;5;241m==\u001b[39m _DatasetKind\u001b[38;5;241m.\u001b[39mIterable \u001b[38;5;129;01mand\u001b[39;00m \\\n\u001b[0;32m    633\u001b[0m         \u001b[38;5;28mself\u001b[39m\u001b[38;5;241m.\u001b[39m_IterableDataset_len_called \u001b[38;5;129;01mis\u001b[39;00m \u001b[38;5;129;01mnot\u001b[39;00m \u001b[38;5;28;01mNone\u001b[39;00m \u001b[38;5;129;01mand\u001b[39;00m \\\n\u001b[0;32m    634\u001b[0m         \u001b[38;5;28mself\u001b[39m\u001b[38;5;241m.\u001b[39m_num_yielded \u001b[38;5;241m>\u001b[39m \u001b[38;5;28mself\u001b[39m\u001b[38;5;241m.\u001b[39m_IterableDataset_len_called:\n",
      "File \u001b[1;32mc:\\Users\\soria\\AppData\\Local\\Programs\\Python\\Python310\\lib\\site-packages\\torch\\utils\\data\\dataloader.py:1344\u001b[0m, in \u001b[0;36m_MultiProcessingDataLoaderIter._next_data\u001b[1;34m(self)\u001b[0m\n\u001b[0;32m   1342\u001b[0m \u001b[38;5;28;01melse\u001b[39;00m:\n\u001b[0;32m   1343\u001b[0m     \u001b[38;5;28;01mdel\u001b[39;00m \u001b[38;5;28mself\u001b[39m\u001b[38;5;241m.\u001b[39m_task_info[idx]\n\u001b[1;32m-> 1344\u001b[0m     \u001b[38;5;28;01mreturn\u001b[39;00m \u001b[38;5;28;43mself\u001b[39;49m\u001b[38;5;241;43m.\u001b[39;49m\u001b[43m_process_data\u001b[49m\u001b[43m(\u001b[49m\u001b[43mdata\u001b[49m\u001b[43m)\u001b[49m\n",
      "File \u001b[1;32mc:\\Users\\soria\\AppData\\Local\\Programs\\Python\\Python310\\lib\\site-packages\\torch\\utils\\data\\dataloader.py:1370\u001b[0m, in \u001b[0;36m_MultiProcessingDataLoaderIter._process_data\u001b[1;34m(self, data)\u001b[0m\n\u001b[0;32m   1368\u001b[0m \u001b[38;5;28mself\u001b[39m\u001b[38;5;241m.\u001b[39m_try_put_index()\n\u001b[0;32m   1369\u001b[0m \u001b[38;5;28;01mif\u001b[39;00m \u001b[38;5;28misinstance\u001b[39m(data, ExceptionWrapper):\n\u001b[1;32m-> 1370\u001b[0m     \u001b[43mdata\u001b[49m\u001b[38;5;241;43m.\u001b[39;49m\u001b[43mreraise\u001b[49m\u001b[43m(\u001b[49m\u001b[43m)\u001b[49m\n\u001b[0;32m   1371\u001b[0m \u001b[38;5;28;01mreturn\u001b[39;00m data\n",
      "File \u001b[1;32mc:\\Users\\soria\\AppData\\Local\\Programs\\Python\\Python310\\lib\\site-packages\\torch\\_utils.py:706\u001b[0m, in \u001b[0;36mExceptionWrapper.reraise\u001b[1;34m(self)\u001b[0m\n\u001b[0;32m    702\u001b[0m \u001b[38;5;28;01mexcept\u001b[39;00m \u001b[38;5;167;01mTypeError\u001b[39;00m:\n\u001b[0;32m    703\u001b[0m     \u001b[38;5;66;03m# If the exception takes multiple arguments, don't try to\u001b[39;00m\n\u001b[0;32m    704\u001b[0m     \u001b[38;5;66;03m# instantiate since we don't know how to\u001b[39;00m\n\u001b[0;32m    705\u001b[0m     \u001b[38;5;28;01mraise\u001b[39;00m \u001b[38;5;167;01mRuntimeError\u001b[39;00m(msg) \u001b[38;5;28;01mfrom\u001b[39;00m \u001b[38;5;28;01mNone\u001b[39;00m\n\u001b[1;32m--> 706\u001b[0m \u001b[38;5;28;01mraise\u001b[39;00m exception\n",
      "\u001b[1;31mIndexError\u001b[0m: Caught IndexError in DataLoader worker process 0.\nOriginal Traceback (most recent call last):\n  File \"c:\\Users\\soria\\AppData\\Local\\Programs\\Python\\Python310\\lib\\site-packages\\torch\\utils\\data\\_utils\\worker.py\", line 309, in _worker_loop\n    data = fetcher.fetch(index)  # type: ignore[possibly-undefined]\n  File \"c:\\Users\\soria\\AppData\\Local\\Programs\\Python\\Python310\\lib\\site-packages\\torch\\utils\\data\\_utils\\fetch.py\", line 52, in fetch\n    data = [self.dataset[idx] for idx in possibly_batched_index]\n  File \"c:\\Users\\soria\\AppData\\Local\\Programs\\Python\\Python310\\lib\\site-packages\\torch\\utils\\data\\_utils\\fetch.py\", line 52, in <listcomp>\n    data = [self.dataset[idx] for idx in possibly_batched_index]\n  File \"c:\\lung cancer\\dlwpt-code\\p2ch14\\dsets.py\", line 315, in __getitem__\n    return self.sampleFromCandidateInfo_tup(\n  File \"c:\\lung cancer\\dlwpt-code\\p2ch14\\dsets.py\", line 331, in sampleFromCandidateInfo_tup\n    candidate_a, center_irc = getCtRawCandidate(\n  File \"c:\\Users\\soria\\AppData\\Local\\Programs\\Python\\Python310\\lib\\site-packages\\diskcache\\core.py\", line 1888, in wrapper\n    result = func(*args, **kwargs)\n  File \"c:\\lung cancer\\dlwpt-code\\p2ch14\\dsets.py\", line 148, in getCtRawCandidate\n    ct = getCt(series_uid)\n  File \"c:\\lung cancer\\dlwpt-code\\p2ch14\\dsets.py\", line 144, in getCt\n    return Ct(series_uid)\n  File \"c:\\lung cancer\\dlwpt-code\\p2ch14\\dsets.py\", line 93, in __init__\n    mhd_path = glob.glob(\nIndexError: list index out of range\n"
     ]
    }
   ],
   "source": [
    "run('p2ch14.prepcache.LunaPrepCacheApp')"
   ]
  },
  {
   "cell_type": "code",
   "execution_count": null,
   "metadata": {
    "scrolled": true
   },
   "outputs": [],
   "source": [
    "run('p2ch14.training.ClassificationTrainingApp', f'--epochs=100', 'nodule-nonnodule')"
   ]
  },
  {
   "cell_type": "code",
   "execution_count": null,
   "metadata": {
    "scrolled": false
   },
   "outputs": [],
   "source": [
    "run('p2ch14.training.ClassificationTrainingApp', f'--epochs=40', '--malignant', '--dataset=MalignantLunaDataset',\n",
    "    '--finetune=''data/part2/models/cls_2020-02-06_14.16.55_final-nodule-nonnodule.best.state',\n",
    "    'finetune-head')\n"
   ]
  },
  {
   "cell_type": "code",
   "execution_count": null,
   "metadata": {
    "scrolled": false
   },
   "outputs": [],
   "source": [
    "run('p2ch14.training.ClassificationTrainingApp', f'--epochs=40', '--malignant', '--dataset=MalignantLunaDataset',\n",
    "    '--finetune=''data/part2/models/cls_2020-02-06_14.16.55_final-nodule-nonnodule.best.state',\n",
    "    '--finetune-depth=2',\n",
    "    'finetune-depth2')\n"
   ]
  },
  {
   "cell_type": "code",
   "execution_count": null,
   "metadata": {},
   "outputs": [],
   "source": [
    "run('p2ch14.nodule_analysis.NoduleAnalysisApp', '--run-validation')"
   ]
  },
  {
   "cell_type": "code",
   "execution_count": null,
   "metadata": {},
   "outputs": [],
   "source": [
    "run('p2ch14.nodule_analysis.NoduleAnalysisApp', '--run-validation', '--malignancy-path')"
   ]
  },
  {
   "cell_type": "code",
   "execution_count": null,
   "metadata": {},
   "outputs": [],
   "source": []
  },
  {
   "cell_type": "code",
   "execution_count": null,
   "metadata": {},
   "outputs": [],
   "source": []
  }
 ],
 "metadata": {
  "kernelspec": {
   "display_name": "Python 3",
   "language": "python",
   "name": "python3"
  },
  "language_info": {
   "codemirror_mode": {
    "name": "ipython",
    "version": 3
   },
   "file_extension": ".py",
   "mimetype": "text/x-python",
   "name": "python",
   "nbconvert_exporter": "python",
   "pygments_lexer": "ipython3",
   "version": "3.10.9"
  }
 },
 "nbformat": 4,
 "nbformat_minor": 2
}
